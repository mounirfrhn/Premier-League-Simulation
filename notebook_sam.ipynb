{
 "cells": [
  {
   "cell_type": "markdown",
   "metadata": {},
   "source": [
    "We are getting features for each players in order to forecast performance"
   ]
  },
  {
   "cell_type": "code",
   "execution_count": 1,
   "metadata": {},
   "outputs": [],
   "source": [
    "import requests"
   ]
  },
  {
   "cell_type": "code",
   "execution_count": 2,
   "metadata": {},
   "outputs": [
    {
     "name": "stdout",
     "output_type": "stream",
     "text": [
      "Premier League ID: 17\n"
     ]
    }
   ],
   "source": [
    "#getting id for premier league\n",
    "url = \"https://sofascore.p.rapidapi.com/tournaments/list\"\n",
    "querystring = {\"categoryId\":\"1\"}\n",
    "headers = {\n",
    "\t\"x-rapidapi-key\": \"3372c5dccemsh63586243fcebfbep104b94jsn6c41f060e7b8\",\n",
    "\t\"x-rapidapi-host\": \"sofascore.p.rapidapi.com\"\n",
    "}\n",
    "response_eng = requests.get(url, headers=headers, params=querystring)\n",
    "data_eng = response_eng.json()\n",
    "\n",
    "premier_league_id = None\n",
    "\n",
    "for group in data_eng['groups']:\n",
    "    for tournament in group['uniqueTournaments']:\n",
    "        if tournament['name'] == \"Premier League\":\n",
    "            premier_league_id = tournament['id']\n",
    "print(f\"Premier League ID: {premier_league_id}\")\n"
   ]
  },
  {
   "cell_type": "code",
   "execution_count": 3,
   "metadata": {},
   "outputs": [
    {
     "name": "stdout",
     "output_type": "stream",
     "text": [
      "[{'name': 'Mohamed Salah', 'rating': 7.99375, 'appearances': 16, 'team': 'Liverpool', 'position': 'F', 'id': 159665}, {'name': 'Bukayo Saka', 'rating': 7.93125, 'appearances': 16, 'team': 'Arsenal', 'position': 'F', 'id': 934235}, {'name': 'Matheus Cunha', 'rating': 7.6, 'appearances': 17, 'team': 'Wolverhampton', 'position': 'F', 'id': 886363}, {'name': 'Heung-min Son', 'rating': 7.5357142857143, 'appearances': 14, 'team': 'Tottenham Hotspur', 'position': 'F', 'id': 111505}, {'name': 'Bryan Mbeumo', 'rating': 7.5176470588235, 'appearances': 17, 'team': 'Brentford', 'position': 'F', 'id': 927083}, {'name': 'Alexander Isak', 'rating': 7.36, 'appearances': 15, 'team': 'Newcastle United', 'position': 'F', 'id': 823941}, {'name': 'Erling Haaland', 'rating': 7.3, 'appearances': 17, 'team': 'Manchester City', 'position': 'F', 'id': 839956}, {'name': 'Luis Díaz', 'rating': 7.225, 'appearances': 16, 'team': 'Liverpool', 'position': 'F', 'id': 883537}, {'name': 'Brennan Johnson', 'rating': 7.2, 'appearances': 17, 'team': 'Tottenham Hotspur', 'position': 'F', 'id': 1085180}, {'name': 'Anthony Gordon', 'rating': 7.2, 'appearances': 16, 'team': 'Newcastle United', 'position': 'F', 'id': 914902}]\n"
     ]
    }
   ],
   "source": [
    "#building a dictionnary with our target players\n",
    "url = \"https://sofascore.p.rapidapi.com/tournaments/get-top-players\"\n",
    "querystring = {\"tournamentId\": premier_league_id, \"seasonId\": \"61627\"}\n",
    "headers = {\n",
    "    \"x-rapidapi-key\": \"3372c5dccemsh63586243fcebfbep104b94jsn6c41f060e7b8\",\n",
    "    \"x-rapidapi-host\": \"sofascore.p.rapidapi.com\"\n",
    "}\n",
    "response = requests.get(url, headers=headers, params=querystring)\n",
    "data = response.json()\n",
    "players = data['topPlayers']['rating']\n",
    "#sort by rating\n",
    "top_10_players = sorted(players, key=lambda x: x['statistics']['rating'], reverse=True)\n",
    "#only forwards (attackers)\n",
    "top_10_premier_league = [\n",
    "    {\n",
    "        \"name\": player['player']['name'],\n",
    "        \"rating\": player['statistics']['rating'],\n",
    "        \"appearances\": player['statistics']['appearances'],\n",
    "        \"team\": player['team']['name'],\n",
    "        \"position\": player['player']['position'],\n",
    "        \"id\": player['player']['id']\n",
    "    }\n",
    "    for player in top_10_players if player['player']['position'] == 'F'\n",
    "][:10]\n",
    "\n",
    "print(top_10_premier_league)\n"
   ]
  },
  {
   "cell_type": "markdown",
   "metadata": {},
   "source": [
    "Let's visualise properties for each player (M. Salah)"
   ]
  },
  {
   "cell_type": "code",
   "execution_count": 4,
   "metadata": {},
   "outputs": [
    {
     "name": "stdout",
     "output_type": "stream",
     "text": [
      "{'player': {'name': 'Mohamed Salah', 'slug': 'mohamed-salah', 'shortName': 'M. Salah', 'team': {'name': 'Liverpool', 'slug': 'liverpool', 'shortName': 'Liverpool', 'gender': 'M', 'sport': {'name': 'Football', 'slug': 'football', 'id': 1}, 'tournament': {'name': 'Premier League', 'slug': 'premier-league', 'category': {'name': 'England', 'slug': 'england', 'sport': {'name': 'Football', 'slug': 'football', 'id': 1}, 'id': 1, 'country': {'alpha2': 'EN', 'alpha3': 'ENG', 'name': 'England', 'slug': 'england'}, 'flag': 'england', 'alpha2': 'EN'}, 'uniqueTournament': {'name': 'Premier League', 'slug': 'premier-league', 'primaryColorHex': '#3c1c5a', 'secondaryColorHex': '#f80158', 'category': {'name': 'England', 'slug': 'england', 'sport': {'name': 'Football', 'slug': 'football', 'id': 1}, 'id': 1, 'country': {'alpha2': 'EN', 'alpha3': 'ENG', 'name': 'England', 'slug': 'england'}, 'flag': 'england', 'alpha2': 'EN'}, 'userCount': 1378017, 'id': 17, 'country': {}, 'displayInverseHomeAwayTeams': False, 'fieldTranslations': {'nameTranslation': {'ar': 'الدوري الإنجليزي الممتاز', 'hi': 'प्रिमियर लीग'}, 'shortNameTranslation': {}}}, 'priority': 617, 'isLive': False, 'id': 1, 'fieldTranslations': {'nameTranslation': {'ar': 'الدوري الإنجليزي الممتاز', 'hi': 'प्रिमियर लीग'}, 'shortNameTranslation': {}}}, 'primaryUniqueTournament': {'name': 'Premier League', 'slug': 'premier-league', 'primaryColorHex': '#3c1c5a', 'secondaryColorHex': '#f80158', 'category': {'name': 'England', 'slug': 'england', 'sport': {'name': 'Football', 'slug': 'football', 'id': 1}, 'id': 1, 'country': {'alpha2': 'EN', 'alpha3': 'ENG', 'name': 'England', 'slug': 'england'}, 'flag': 'england', 'alpha2': 'EN'}, 'userCount': 1378017, 'id': 17, 'country': {}, 'displayInverseHomeAwayTeams': False, 'fieldTranslations': {'nameTranslation': {'ar': 'الدوري الإنجليزي الممتاز', 'hi': 'प्रिमियर लीग'}, 'shortNameTranslation': {}}}, 'userCount': 2460053, 'nameCode': 'LIV', 'disabled': False, 'national': False, 'type': 0, 'id': 44, 'country': {'alpha2': 'EN', 'alpha3': 'ENG', 'name': 'England', 'slug': 'england'}, 'entityType': 'team', 'teamColors': {'primary': '#cc0000', 'secondary': '#ffffff', 'text': '#ffffff'}, 'fieldTranslations': {'nameTranslation': {'ar': 'ليفربول', 'ru': 'Ливерпуль', 'hi': 'लिवरपूल'}, 'shortNameTranslation': {'ar': 'ليفربول', 'hi': 'लिवरपूल'}}}, 'position': 'F', 'jerseyNumber': '11', 'height': 175, 'preferredFoot': 'Left', 'retired': False, 'userCount': 306283, 'deceased': False, 'gender': 'M', 'id': 159665, 'country': {'alpha2': 'EG', 'alpha3': 'EGY', 'name': 'Egypt', 'slug': 'egypt'}, 'shirtNumber': 11, 'dateOfBirthTimestamp': 708566400, 'contractUntilTimestamp': 1751241600, 'proposedMarketValue': 53000000, 'proposedMarketValueRaw': {'value': 53000000, 'currency': 'EUR'}, 'fieldTranslations': {'nameTranslation': {'ar': 'صلاح, محمد'}, 'shortNameTranslation': {'ar': 'م. صلاح'}}}}\n"
     ]
    }
   ],
   "source": [
    "\n",
    "#details\n",
    "url = \"https://sofascore.p.rapidapi.com/players/detail\"\n",
    "querystring = {\"playerId\":\"159665\"}\n",
    "headers = {\n",
    "\t\"x-rapidapi-key\": \"3372c5dccemsh63586243fcebfbep104b94jsn6c41f060e7b8\",\n",
    "\t\"x-rapidapi-host\": \"sofascore.p.rapidapi.com\"\n",
    "}\n",
    "response = requests.get(url, headers=headers, params=querystring)\n",
    "print(response.json())"
   ]
  },
  {
   "cell_type": "code",
   "execution_count": 5,
   "metadata": {},
   "outputs": [
    {
     "name": "stdout",
     "output_type": "stream",
     "text": [
      "{'averageAttributeOverviews': [{'attacking': 62, 'technical': 54, 'tactical': 44, 'defending': 32, 'creativity': 47, 'position': 'F', 'yearShift': 0, 'id': 19812}], 'playerAttributeOverviews': [{'attacking': 89, 'technical': 66, 'tactical': 60, 'defending': 28, 'creativity': 80, 'position': 'F', 'yearShift': 0, 'id': 11015}, {'attacking': 89, 'technical': 63, 'tactical': 60, 'defending': 24, 'creativity': 79, 'position': 'F', 'yearShift': 1, 'id': 11016}, {'attacking': 85, 'technical': 57, 'tactical': 61, 'defending': 23, 'creativity': 74, 'position': 'F', 'yearShift': 2, 'id': 11017}, {'attacking': 91, 'technical': 66, 'tactical': 66, 'defending': 26, 'creativity': 75, 'position': 'F', 'yearShift': 3, 'id': 11018}]}\n"
     ]
    }
   ],
   "source": [
    "#attributes\n",
    "url = \"https://sofascore.p.rapidapi.com/players/get-attribute-overviews\"\n",
    "querystring = {\"playerId\":\"159665\"}\n",
    "headers = {\n",
    "\t\"x-rapidapi-key\": \"3372c5dccemsh63586243fcebfbep104b94jsn6c41f060e7b8\",\n",
    "\t\"x-rapidapi-host\": \"sofascore.p.rapidapi.com\"\n",
    "}\n",
    "\n",
    "response = requests.get(url, headers=headers, params=querystring)\n",
    "print(response.json())"
   ]
  },
  {
   "cell_type": "code",
   "execution_count": 17,
   "metadata": {},
   "outputs": [
    {
     "name": "stdout",
     "output_type": "stream",
     "text": [
      "\n",
      "Match 1 (ID: 12436471): Tottenham Hotspur vs Liverpool\n",
      "Tournament: Premier League\n",
      "Player's Rating: 9.4\n",
      "Score: Tottenham Hotspur 3 - Liverpool 6\n",
      "\n",
      "Match 2 (ID: 12436446): Liverpool vs Fulham\n",
      "Tournament: Premier League\n",
      "Player's Rating: 7.3\n",
      "Score: Liverpool 2 - Fulham 2\n",
      "\n",
      "Match 3 (ID: 12436978): Newcastle United vs Liverpool\n",
      "Tournament: Premier League\n",
      "Player's Rating: 9.1\n",
      "Score: Newcastle United 3 - Liverpool 3\n",
      "\n",
      "Match 4 (ID: 12436504): Liverpool vs Manchester City\n",
      "Tournament: Premier League\n",
      "Player's Rating: 7.9\n",
      "Score: Liverpool 2 - Manchester City 0\n",
      "\n",
      "Match 5 (ID: 12436506): Southampton vs Liverpool\n",
      "Tournament: Premier League\n",
      "Player's Rating: 8.2\n",
      "Score: Southampton 2 - Liverpool 3\n"
     ]
    }
   ],
   "source": [
    "url = \"https://sofascore.p.rapidapi.com/players/get-last-ratings\"\n",
    "querystring = {\"playerId\":\"159665\", \"tournamentId\":\"17\", \"seasonId\":\"61627\"}\n",
    "headers = {\n",
    "    \"x-rapidapi-key\": \"3372c5dccemsh63586243fcebfbep104b94jsn6c41f060e7b8\",\n",
    "    \"x-rapidapi-host\": \"sofascore.p.rapidapi.com\"\n",
    "}\n",
    "response = requests.get(url, headers=headers, params=querystring)\n",
    "data = response.json()\n",
    "\n",
    "last_ratings = data.get('lastRatings', [])\n",
    "if last_ratings:\n",
    "    #5 last games\n",
    "    for i, rating_data in enumerate(last_ratings[:5]):\n",
    "        match = rating_data.get('event', {})\n",
    "        tournament = match.get('tournament', {}).get('name', 'N/A')\n",
    "        home_team = match.get('homeTeam', {}).get('name', 'N/A')\n",
    "        away_team = match.get('awayTeam', {}).get('name', 'N/A')\n",
    "        rating = rating_data.get('rating', 'N/A')  \n",
    "        home_score = match.get('homeScore', {}).get('current', 'N/A')\n",
    "        away_score = match.get('awayScore', {}).get('current', 'N/A')\n",
    "        match_id = match.get('id', 'N/A')\n",
    "        print(f\"\\nMatch {i+1} (ID: {match_id}): {home_team} vs {away_team}\")\n",
    "        print(f\"Tournament: {tournament}\")\n",
    "        print(f\"Player's Rating: {rating}\")\n",
    "        print(f\"Score: {home_team} {home_score} - {away_team} {away_score}\")\n",
    "else:\n",
    "    print(\"No ratings found.\")\n"
   ]
  },
  {
   "cell_type": "code",
   "execution_count": null,
   "metadata": {},
   "outputs": [],
   "source": []
  }
 ],
 "metadata": {
  "kernelspec": {
   "display_name": "base",
   "language": "python",
   "name": "python3"
  },
  "language_info": {
   "codemirror_mode": {
    "name": "ipython",
    "version": 3
   },
   "file_extension": ".py",
   "mimetype": "text/x-python",
   "name": "python",
   "nbconvert_exporter": "python",
   "pygments_lexer": "ipython3",
   "version": "3.12.7"
  }
 },
 "nbformat": 4,
 "nbformat_minor": 2
}
