{
 "cells": [
  {
   "cell_type": "markdown",
   "metadata": {},
   "source": [
    "We are getting features for each players in order to forecast performance"
   ]
  },
  {
   "cell_type": "code",
   "execution_count": 1,
   "metadata": {},
   "outputs": [],
   "source": [
    "import requests"
   ]
  },
  {
   "cell_type": "code",
   "execution_count": 2,
   "metadata": {},
   "outputs": [
    {
     "name": "stdout",
     "output_type": "stream",
     "text": [
      "Premier League ID: 17\n"
     ]
    }
   ],
   "source": [
    "#getting id for premier league\n",
    "url = \"https://sofascore.p.rapidapi.com/tournaments/list\"\n",
    "querystring = {\"categoryId\":\"1\"}\n",
    "headers = {\n",
    "\t\"x-rapidapi-key\": \"3372c5dccemsh63586243fcebfbep104b94jsn6c41f060e7b8\",\n",
    "\t\"x-rapidapi-host\": \"sofascore.p.rapidapi.com\"\n",
    "}\n",
    "response_eng = requests.get(url, headers=headers, params=querystring)\n",
    "data_eng = response_eng.json()\n",
    "\n",
    "premier_league_id = None\n",
    "\n",
    "for group in data_eng['groups']:\n",
    "    for tournament in group['uniqueTournaments']:\n",
    "        if tournament['name'] == \"Premier League\":\n",
    "            premier_league_id = tournament['id']\n",
    "print(f\"Premier League ID: {premier_league_id}\")\n"
   ]
  },
  {
   "cell_type": "code",
   "execution_count": 3,
   "metadata": {},
   "outputs": [
    {
     "name": "stdout",
     "output_type": "stream",
     "text": [
      "[{'name': 'Mohamed Salah', 'rating': 7.99375, 'appearances': 16, 'team': 'Liverpool', 'position': 'F', 'id': 159665}, {'name': 'Bukayo Saka', 'rating': 7.93125, 'appearances': 16, 'team': 'Arsenal', 'position': 'F', 'id': 934235}, {'name': 'Matheus Cunha', 'rating': 7.6, 'appearances': 17, 'team': 'Wolverhampton', 'position': 'F', 'id': 886363}, {'name': 'Heung-min Son', 'rating': 7.5357142857143, 'appearances': 14, 'team': 'Tottenham Hotspur', 'position': 'F', 'id': 111505}, {'name': 'Bryan Mbeumo', 'rating': 7.5176470588235, 'appearances': 17, 'team': 'Brentford', 'position': 'F', 'id': 927083}, {'name': 'Alexander Isak', 'rating': 7.36, 'appearances': 15, 'team': 'Newcastle United', 'position': 'F', 'id': 823941}, {'name': 'Erling Haaland', 'rating': 7.3, 'appearances': 17, 'team': 'Manchester City', 'position': 'F', 'id': 839956}, {'name': 'Luis Díaz', 'rating': 7.225, 'appearances': 16, 'team': 'Liverpool', 'position': 'F', 'id': 883537}, {'name': 'Brennan Johnson', 'rating': 7.2, 'appearances': 17, 'team': 'Tottenham Hotspur', 'position': 'F', 'id': 1085180}, {'name': 'Anthony Gordon', 'rating': 7.2, 'appearances': 16, 'team': 'Newcastle United', 'position': 'F', 'id': 914902}]\n"
     ]
    }
   ],
   "source": [
    "#building a dictionnary with our target players\n",
    "url = \"https://sofascore.p.rapidapi.com/tournaments/get-top-players\"\n",
    "querystring = {\"tournamentId\": premier_league_id, \"seasonId\": \"61627\"}\n",
    "headers = {\n",
    "    \"x-rapidapi-key\": \"3372c5dccemsh63586243fcebfbep104b94jsn6c41f060e7b8\",\n",
    "    \"x-rapidapi-host\": \"sofascore.p.rapidapi.com\"\n",
    "}\n",
    "response = requests.get(url, headers=headers, params=querystring)\n",
    "data = response.json()\n",
    "players = data['topPlayers']['rating']\n",
    "#sort by rating\n",
    "top_10_players = sorted(players, key=lambda x: x['statistics']['rating'], reverse=True)\n",
    "#only forwards (attackers)\n",
    "top_10_premier_league = [\n",
    "    {\n",
    "        \"name\": player['player']['name'],\n",
    "        \"rating\": player['statistics']['rating'],\n",
    "        \"appearances\": player['statistics']['appearances'],\n",
    "        \"team\": player['team']['name'],\n",
    "        \"position\": player['player']['position'],\n",
    "        \"id\": player['player']['id']\n",
    "    }\n",
    "    for player in top_10_players if player['player']['position'] == 'F'\n",
    "][:10]\n",
    "\n",
    "print(top_10_premier_league)\n"
   ]
  },
  {
   "cell_type": "markdown",
   "metadata": {},
   "source": [
    "Let's visualise properties for each player (M. Salah)"
   ]
  },
  {
   "cell_type": "code",
   "execution_count": 4,
   "metadata": {},
   "outputs": [
    {
     "name": "stdout",
     "output_type": "stream",
     "text": [
      "{'player': {'name': 'Mohamed Salah', 'slug': 'mohamed-salah', 'shortName': 'M. Salah', 'team': {'name': 'Liverpool', 'slug': 'liverpool', 'shortName': 'Liverpool', 'gender': 'M', 'sport': {'name': 'Football', 'slug': 'football', 'id': 1}, 'tournament': {'name': 'Premier League', 'slug': 'premier-league', 'category': {'name': 'England', 'slug': 'england', 'sport': {'name': 'Football', 'slug': 'football', 'id': 1}, 'id': 1, 'country': {'alpha2': 'EN', 'alpha3': 'ENG', 'name': 'England', 'slug': 'england'}, 'flag': 'england', 'alpha2': 'EN'}, 'uniqueTournament': {'name': 'Premier League', 'slug': 'premier-league', 'primaryColorHex': '#3c1c5a', 'secondaryColorHex': '#f80158', 'category': {'name': 'England', 'slug': 'england', 'sport': {'name': 'Football', 'slug': 'football', 'id': 1}, 'id': 1, 'country': {'alpha2': 'EN', 'alpha3': 'ENG', 'name': 'England', 'slug': 'england'}, 'flag': 'england', 'alpha2': 'EN'}, 'userCount': 1378017, 'id': 17, 'country': {}, 'displayInverseHomeAwayTeams': False, 'fieldTranslations': {'nameTranslation': {'ar': 'الدوري الإنجليزي الممتاز', 'hi': 'प्रिमियर लीग'}, 'shortNameTranslation': {}}}, 'priority': 617, 'isLive': False, 'id': 1, 'fieldTranslations': {'nameTranslation': {'ar': 'الدوري الإنجليزي الممتاز', 'hi': 'प्रिमियर लीग'}, 'shortNameTranslation': {}}}, 'primaryUniqueTournament': {'name': 'Premier League', 'slug': 'premier-league', 'primaryColorHex': '#3c1c5a', 'secondaryColorHex': '#f80158', 'category': {'name': 'England', 'slug': 'england', 'sport': {'name': 'Football', 'slug': 'football', 'id': 1}, 'id': 1, 'country': {'alpha2': 'EN', 'alpha3': 'ENG', 'name': 'England', 'slug': 'england'}, 'flag': 'england', 'alpha2': 'EN'}, 'userCount': 1378017, 'id': 17, 'country': {}, 'displayInverseHomeAwayTeams': False, 'fieldTranslations': {'nameTranslation': {'ar': 'الدوري الإنجليزي الممتاز', 'hi': 'प्रिमियर लीग'}, 'shortNameTranslation': {}}}, 'userCount': 2460053, 'nameCode': 'LIV', 'disabled': False, 'national': False, 'type': 0, 'id': 44, 'country': {'alpha2': 'EN', 'alpha3': 'ENG', 'name': 'England', 'slug': 'england'}, 'entityType': 'team', 'teamColors': {'primary': '#cc0000', 'secondary': '#ffffff', 'text': '#ffffff'}, 'fieldTranslations': {'nameTranslation': {'ar': 'ليفربول', 'ru': 'Ливерпуль', 'hi': 'लिवरपूल'}, 'shortNameTranslation': {'ar': 'ليفربول', 'hi': 'लिवरपूल'}}}, 'position': 'F', 'jerseyNumber': '11', 'height': 175, 'preferredFoot': 'Left', 'retired': False, 'userCount': 306283, 'deceased': False, 'gender': 'M', 'id': 159665, 'country': {'alpha2': 'EG', 'alpha3': 'EGY', 'name': 'Egypt', 'slug': 'egypt'}, 'shirtNumber': 11, 'dateOfBirthTimestamp': 708566400, 'contractUntilTimestamp': 1751241600, 'proposedMarketValue': 53000000, 'proposedMarketValueRaw': {'value': 53000000, 'currency': 'EUR'}, 'fieldTranslations': {'nameTranslation': {'ar': 'صلاح, محمد'}, 'shortNameTranslation': {'ar': 'م. صلاح'}}}}\n"
     ]
    }
   ],
   "source": [
    "\n",
    "#details\n",
    "url = \"https://sofascore.p.rapidapi.com/players/detail\"\n",
    "querystring = {\"playerId\":\"159665\"}\n",
    "headers = {\n",
    "\t\"x-rapidapi-key\": \"3372c5dccemsh63586243fcebfbep104b94jsn6c41f060e7b8\",\n",
    "\t\"x-rapidapi-host\": \"sofascore.p.rapidapi.com\"\n",
    "}\n",
    "response = requests.get(url, headers=headers, params=querystring)\n",
    "print(response.json())"
   ]
  },
  {
   "cell_type": "code",
   "execution_count": 5,
   "metadata": {},
   "outputs": [
    {
     "name": "stdout",
     "output_type": "stream",
     "text": [
      "{'averageAttributeOverviews': [{'attacking': 62, 'technical': 54, 'tactical': 44, 'defending': 32, 'creativity': 47, 'position': 'F', 'yearShift': 0, 'id': 19812}], 'playerAttributeOverviews': [{'attacking': 89, 'technical': 66, 'tactical': 60, 'defending': 28, 'creativity': 80, 'position': 'F', 'yearShift': 0, 'id': 11015}, {'attacking': 89, 'technical': 63, 'tactical': 60, 'defending': 24, 'creativity': 79, 'position': 'F', 'yearShift': 1, 'id': 11016}, {'attacking': 85, 'technical': 57, 'tactical': 61, 'defending': 23, 'creativity': 74, 'position': 'F', 'yearShift': 2, 'id': 11017}, {'attacking': 91, 'technical': 66, 'tactical': 66, 'defending': 26, 'creativity': 75, 'position': 'F', 'yearShift': 3, 'id': 11018}]}\n"
     ]
    }
   ],
   "source": [
    "#attributes\n",
    "url = \"https://sofascore.p.rapidapi.com/players/get-attribute-overviews\"\n",
    "querystring = {\"playerId\":\"159665\"}\n",
    "headers = {\n",
    "\t\"x-rapidapi-key\": \"3372c5dccemsh63586243fcebfbep104b94jsn6c41f060e7b8\",\n",
    "\t\"x-rapidapi-host\": \"sofascore.p.rapidapi.com\"\n",
    "}\n",
    "\n",
    "response = requests.get(url, headers=headers, params=querystring)\n",
    "print(response.json())"
   ]
  },
  {
   "cell_type": "code",
   "execution_count": 6,
   "metadata": {},
   "outputs": [
    {
     "name": "stdout",
     "output_type": "stream",
     "text": [
      "\n",
      "Match 1 (ID: 12436471): Tottenham Hotspur vs Liverpool\n",
      "Tournament: Premier League\n",
      "Player's Rating: 9.4\n",
      "Score: Tottenham Hotspur 3 - Liverpool 6\n",
      "\n",
      "Match 2 (ID: 12436446): Liverpool vs Fulham\n",
      "Tournament: Premier League\n",
      "Player's Rating: 7.3\n",
      "Score: Liverpool 2 - Fulham 2\n",
      "\n",
      "Match 3 (ID: 12436978): Newcastle United vs Liverpool\n",
      "Tournament: Premier League\n",
      "Player's Rating: 9.1\n",
      "Score: Newcastle United 3 - Liverpool 3\n",
      "\n",
      "Match 4 (ID: 12436504): Liverpool vs Manchester City\n",
      "Tournament: Premier League\n",
      "Player's Rating: 7.9\n",
      "Score: Liverpool 2 - Manchester City 0\n",
      "\n",
      "Match 5 (ID: 12436506): Southampton vs Liverpool\n",
      "Tournament: Premier League\n",
      "Player's Rating: 8.2\n",
      "Score: Southampton 2 - Liverpool 3\n"
     ]
    }
   ],
   "source": [
    "url = \"https://sofascore.p.rapidapi.com/players/get-last-ratings\"\n",
    "querystring = {\"playerId\":\"159665\", \"tournamentId\":\"17\", \"seasonId\":\"61627\"}\n",
    "headers = {\n",
    "    \"x-rapidapi-key\": \"3372c5dccemsh63586243fcebfbep104b94jsn6c41f060e7b8\",\n",
    "    \"x-rapidapi-host\": \"sofascore.p.rapidapi.com\"\n",
    "}\n",
    "response = requests.get(url, headers=headers, params=querystring)\n",
    "data = response.json()\n",
    "\n",
    "last_ratings = data.get('lastRatings', [])\n",
    "if last_ratings:\n",
    "    #5 last games\n",
    "    for i, rating_data in enumerate(last_ratings[:5]):\n",
    "        match = rating_data.get('event', {})\n",
    "        tournament = match.get('tournament', {}).get('name', 'N/A')\n",
    "        home_team = match.get('homeTeam', {}).get('name', 'N/A')\n",
    "        away_team = match.get('awayTeam', {}).get('name', 'N/A')\n",
    "        rating = rating_data.get('rating', 'N/A')  \n",
    "        home_score = match.get('homeScore', {}).get('current', 'N/A')\n",
    "        away_score = match.get('awayScore', {}).get('current', 'N/A')\n",
    "        match_id = match.get('id', 'N/A')\n",
    "        print(f\"\\nMatch {i+1} (ID: {match_id}): {home_team} vs {away_team}\")\n",
    "        print(f\"Tournament: {tournament}\")\n",
    "        print(f\"Player's Rating: {rating}\")\n",
    "        print(f\"Score: {home_team} {home_score} - {away_team} {away_score}\")\n",
    "else:\n",
    "    print(\"No ratings found.\")\n"
   ]
  },
  {
   "cell_type": "code",
   "execution_count": 7,
   "metadata": {},
   "outputs": [
    {
     "name": "stdout",
     "output_type": "stream",
     "text": [
      "Aucune statistique disponible pour ce joueur.\n"
     ]
    }
   ],
   "source": [
    "#stats for salah in tot-liv\n",
    "url = \"https://sofascore.p.rapidapi.com/matches/get-player-statistics\"\n",
    "querystring = {\"matchId\": \"12436471\", \"playerId\": \"159665\"}\n",
    "headers = {\n",
    "    \"x-rapidapi-key\": \"3372c5dccemsh63586243fcebfbep104b94jsn6c41f060e7b8\",\n",
    "    \"x-rapidapi-host\": \"sofascore.p.rapidapi.com\"\n",
    "}\n",
    "response = requests.get(url, headers=headers, params=querystring)\n",
    "\n",
    "if response.status_code == 200:\n",
    "    data = response.json()\n",
    "    \n",
    "    player_stats = data.get('playerStatistics', {})\n",
    "    \n",
    "    if player_stats:\n",
    "        print(f\"Stats pour Mohamed Salah (ID: 159665) - Match Tottenham Hotspur vs Liverpool:\")\n",
    "        \n",
    "        goals = player_stats.get('goals', 0)\n",
    "        assists = player_stats.get('assists', 0)\n",
    "        yellow_cards = player_stats.get('yellowCards', 0)\n",
    "        red_cards = player_stats.get('redCards', 0)\n",
    "        shots_on_target = player_stats.get('shotsOnTarget', 0)\n",
    "        total_shots = player_stats.get('totalShots', 0)\n",
    "        minutes_played = player_stats.get('minutesPlayed', 0)\n",
    "        passes_completed = player_stats.get('passesCompleted', 0)\n",
    "        pass_accuracy = player_stats.get('passAccuracy', 0)\n",
    "        \n",
    "        #display\n",
    "        print(f\"  - Buts marqués: {goals}\")\n",
    "        print(f\"  - Passes décisives: {assists}\")\n",
    "        print(f\"  - Cartons jaunes: {yellow_cards}\")\n",
    "        print(f\"  - Cartons rouges: {red_cards}\")\n",
    "        print(f\"  - Tirs cadrés: {shots_on_target}/{total_shots}\")\n",
    "        print(f\"  - Minutes jouées: {minutes_played}\")\n",
    "        print(f\"  - Passes complétées: {passes_completed}\")\n",
    "        print(f\"  - Précision des passes: {pass_accuracy}%\")\n",
    "    else:\n",
    "        print(\"Aucune statistique disponible pour ce joueur.\")\n",
    "else:\n",
    "    print(f\"Erreur: Impossible de récupérer les statistiques, code de statut {response.status_code}\")\n"
   ]
  },
  {
   "cell_type": "code",
   "execution_count": 8,
   "metadata": {},
   "outputs": [
    {
     "name": "stdout",
     "output_type": "stream",
     "text": [
      "{'player': {'name': 'Mohamed Salah', 'slug': 'mohamed-salah', 'shortName': 'M. Salah', 'position': 'F', 'jerseyNumber': '11', 'height': 175, 'userCount': 306283, 'id': 159665, 'marketValueCurrency': 'EUR', 'dateOfBirthTimestamp': 708566400, 'proposedMarketValueRaw': {'value': 53000000, 'currency': 'EUR'}, 'fieldTranslations': {'nameTranslation': {'ar': 'صلاح, محمد'}, 'shortNameTranslation': {'ar': 'م. صلاح'}}}, 'team': {'name': 'Liverpool', 'slug': 'liverpool', 'shortName': 'Liverpool', 'gender': 'M', 'sport': {'name': 'Football', 'slug': 'football', 'id': 1}, 'userCount': 2460053, 'nameCode': 'LIV', 'disabled': False, 'national': False, 'type': 0, 'id': 44, 'entityType': 'team', 'teamColors': {'primary': '#cc0000', 'secondary': '#ffffff', 'text': '#ffffff'}, 'fieldTranslations': {'nameTranslation': {'ar': 'ليفربول', 'ru': 'Ливерпуль', 'hi': 'लिवरपूल'}, 'shortNameTranslation': {'ar': 'ليفربول', 'hi': 'लिवरपूल'}}}, 'statistics': {'totalPass': 14, 'accuratePass': 10, 'goalAssist': 2, 'totalCross': 1, 'duelLost': 6, 'duelWon': 2, 'dispossessed': 2, 'totalContest': 5, 'wonContest': 1, 'bigChanceCreated': 2, 'bigChanceMissed': 1, 'shotOffTarget': 2, 'onTargetScoringAttempt': 3, 'blockedScoringAttempt': 2, 'hitWoodwork': 1, 'goals': 2, 'wasFouled': 1, 'minutesPlayed': 87, 'touches': 32, 'rating': 9.4, 'possessionLostCtrl': 11, 'expectedGoals': 1.9089, 'keyPass': 3, 'ratingVersions': {'original': 9.4, 'alternative': None}, 'expectedAssists': 0.149583}, 'position': 'M'}\n"
     ]
    }
   ],
   "source": [
    "url = \"https://sofascore.p.rapidapi.com/matches/get-player-statistics\"\n",
    "querystring = {\"matchId\": \"12436471\", \"playerId\": \"159665\"}\n",
    "headers = {\n",
    "    \"x-rapidapi-key\": \"3372c5dccemsh63586243fcebfbep104b94jsn6c41f060e7b8\",\n",
    "    \"x-rapidapi-host\": \"sofascore.p.rapidapi.com\"\n",
    "}\n",
    "response = requests.get(url, headers=headers, params=querystring)\n",
    "print(response.json())"
   ]
  },
  {
   "cell_type": "code",
   "execution_count": 9,
   "metadata": {},
   "outputs": [
    {
     "name": "stdout",
     "output_type": "stream",
     "text": [
      "  - Buts marqués: 2\n",
      "  - Passes décisives: 2\n",
      "  - Tirs cadrés: 3\n",
      "  - Tirs non cadrés: 2\n",
      "  - Grosses occasions créées: 2\n",
      "  - Grosses occasions manquées: 1\n",
      "  - Passes clés: 3\n",
      "  - Touches de balle: 32\n",
      "  - Minutes jouées: 87\n",
      "  - Fautes subies: 1\n",
      "  - Duels gagnés: 2\n",
      "  - Duels perdus: 6\n",
      "  - Note du joueur: 9.4\n",
      "  - Attentes de buts (xG): 1.9089\n",
      "  - Attentes de passes décisives (xA): 0.149583\n"
     ]
    }
   ],
   "source": [
    "#stats for salah for tottenham-liverpool\n",
    "url = \"https://sofascore.p.rapidapi.com/matches/get-player-statistics\"\n",
    "querystring = {\"matchId\": \"12436471\", \"playerId\": \"159665\"}\n",
    "headers = {\n",
    "    \"x-rapidapi-key\": \"3372c5dccemsh63586243fcebfbep104b94jsn6c41f060e7b8\",\n",
    "    \"x-rapidapi-host\": \"sofascore.p.rapidapi.com\"\n",
    "}\n",
    "\n",
    "response = requests.get(url, headers=headers, params=querystring)\n",
    "\n",
    "if response.status_code == 200:\n",
    "    data = response.json()\n",
    "    player_info = data.get('player', {})\n",
    "    player_stats = data.get('statistics', {})\n",
    "    \n",
    "    if player_info and player_stats:\n",
    "        player_name = player_info.get('name', 'N/A')\n",
    "        player_position = player_info.get('position', 'N/A')\n",
    "        player_team = player_info.get('team', {}).get('name', 'N/A')\n",
    "        player_jersey_number = player_info.get('jerseyNumber', 'N/A')\n",
    "        goals = player_stats.get('goals', 0)\n",
    "        goal_assists = player_stats.get('goalAssist', 0)\n",
    "        shots_on_target = player_stats.get('onTargetScoringAttempt', 0)\n",
    "        shots_off_target = player_stats.get('shotOffTarget', 0)\n",
    "        big_chance_created = player_stats.get('bigChanceCreated', 0)\n",
    "        big_chance_missed = player_stats.get('bigChanceMissed', 0)\n",
    "        key_passes = player_stats.get('keyPass', 0)\n",
    "        touches = player_stats.get('touches', 0)\n",
    "        minutes_played = player_stats.get('minutesPlayed', 0)\n",
    "        fouls_committed = player_stats.get('wasFouled', 0)\n",
    "        duels_won = player_stats.get('duelWon', 0)\n",
    "        duels_lost = player_stats.get('duelLost', 0)\n",
    "        rating = player_stats.get('rating', 'N/A')\n",
    "        expected_goals = player_stats.get('expectedGoals', 0)\n",
    "        expected_assists = player_stats.get('expectedAssists', 0)\n",
    "        \n",
    "        #display\n",
    "        print(f\"  - Buts marqués: {goals}\")\n",
    "        print(f\"  - Passes décisives: {goal_assists}\")\n",
    "        print(f\"  - Tirs cadrés: {shots_on_target}\")\n",
    "        print(f\"  - Tirs non cadrés: {shots_off_target}\")\n",
    "        print(f\"  - Grosses occasions créées: {big_chance_created}\")\n",
    "        print(f\"  - Grosses occasions manquées: {big_chance_missed}\")\n",
    "        print(f\"  - Passes clés: {key_passes}\")\n",
    "        print(f\"  - Touches de balle: {touches}\")\n",
    "        print(f\"  - Minutes jouées: {minutes_played}\")\n",
    "        print(f\"  - Fautes subies: {fouls_committed}\")\n",
    "        print(f\"  - Duels gagnés: {duels_won}\")\n",
    "        print(f\"  - Duels perdus: {duels_lost}\")\n",
    "        print(f\"  - Note du joueur: {rating}\")\n",
    "        print(f\"  - Attentes de buts (xG): {expected_goals}\")\n",
    "        print(f\"  - Attentes de passes décisives (xA): {expected_assists}\")\n",
    "    else:\n",
    "        print(\"Aucune statistique disponible pour ce joueur.\")\n",
    "else:\n",
    "    print(f\"Erreur: Impossible de récupérer les statistiques, code de statut {response.status_code}\")\n"
   ]
  },
  {
   "cell_type": "code",
   "execution_count": 10,
   "metadata": {},
   "outputs": [
    {
     "name": "stdout",
     "output_type": "stream",
     "text": [
      "Requirement already satisfied: matplotlib in /opt/conda/lib/python3.12/site-packages (3.9.4)\n",
      "Requirement already satisfied: seaborn in /opt/conda/lib/python3.12/site-packages (0.13.2)\n",
      "Requirement already satisfied: numpy in /opt/conda/lib/python3.12/site-packages (2.2.0)\n",
      "Requirement already satisfied: contourpy>=1.0.1 in /opt/conda/lib/python3.12/site-packages (from matplotlib) (1.3.1)\n",
      "Requirement already satisfied: cycler>=0.10 in /opt/conda/lib/python3.12/site-packages (from matplotlib) (0.12.1)\n",
      "Requirement already satisfied: fonttools>=4.22.0 in /opt/conda/lib/python3.12/site-packages (from matplotlib) (4.55.3)\n",
      "Requirement already satisfied: kiwisolver>=1.3.1 in /opt/conda/lib/python3.12/site-packages (from matplotlib) (1.4.7)\n",
      "Requirement already satisfied: packaging>=20.0 in /opt/conda/lib/python3.12/site-packages (from matplotlib) (24.2)\n",
      "Requirement already satisfied: pillow>=8 in /opt/conda/lib/python3.12/site-packages (from matplotlib) (11.0.0)\n",
      "Requirement already satisfied: pyparsing>=2.3.1 in /opt/conda/lib/python3.12/site-packages (from matplotlib) (3.2.0)\n",
      "Requirement already satisfied: python-dateutil>=2.7 in /opt/conda/lib/python3.12/site-packages (from matplotlib) (2.9.0.post0)\n",
      "Requirement already satisfied: pandas>=1.2 in /opt/conda/lib/python3.12/site-packages (from seaborn) (2.2.3)\n",
      "Requirement already satisfied: pytz>=2020.1 in /opt/conda/lib/python3.12/site-packages (from pandas>=1.2->seaborn) (2024.1)\n",
      "Requirement already satisfied: tzdata>=2022.7 in /opt/conda/lib/python3.12/site-packages (from pandas>=1.2->seaborn) (2024.2)\n",
      "Requirement already satisfied: six>=1.5 in /opt/conda/lib/python3.12/site-packages (from python-dateutil>=2.7->matplotlib) (1.17.0)\n"
     ]
    }
   ],
   "source": [
    "!pip install matplotlib seaborn numpy"
   ]
  },
  {
   "cell_type": "code",
   "execution_count": 13,
   "metadata": {},
   "outputs": [
    {
     "name": "stdout",
     "output_type": "stream",
     "text": [
      "{'heatmap': [{'x': 73, 'y': 49}, {'x': 86, 'y': 62}, {'x': 85, 'y': 62}, {'x': 87, 'y': 28}, {'x': 87, 'y': 28}, {'x': 95, 'y': 43}, {'x': 47, 'y': 18}, {'x': 88, 'y': 41}, {'x': 88, 'y': 41}, {'x': 91, 'y': 41}, {'x': 89, 'y': 36}, {'x': 80, 'y': 31}, {'x': 95, 'y': 25}, {'x': 94, 'y': 24}, {'x': 92, 'y': 29}, {'x': 77, 'y': 48}, {'x': 75, 'y': 27}, {'x': 79, 'y': 7}, {'x': 87, 'y': 26}, {'x': 96, 'y': 49}, {'x': 89, 'y': 27}, {'x': 78, 'y': 34}, {'x': 57, 'y': 5}, {'x': 90, 'y': 51}, {'x': 53, 'y': 6}, {'x': 47, 'y': 12}, {'x': 48, 'y': 10}, {'x': 54, 'y': 30}, {'x': 52, 'y': 26}, {'x': 78, 'y': 22}, {'x': 80, 'y': 25}, {'x': 78, 'y': 13}, {'x': 78, 'y': 33}]}\n"
     ]
    },
    {
     "data": {
      "image/png": "[encoded data removed]",
      "text/plain": [
       "<Figure size 1000x600 with 1 Axes>"
      ]
     },
     "metadata": {},
     "output_type": "display_data"
    }
   ],
   "source": [
    "import requests\n",
    "import matplotlib.pyplot as plt\n",
    "\n",
    "# URL pour récupérer la heatmap du joueur\n",
    "url = \"https://sofascore.p.rapidapi.com/matches/get-player-heatmap\"\n",
    "querystring = {\"matchId\": \"12436471\", \"playerId\": \"159665\"}\n",
    "headers = {\n",
    "    \"x-rapidapi-key\": \"3372c5dccemsh63586243fcebfbep104b94jsn6c41f060e7b8\",\n",
    "    \"x-rapidapi-host\": \"sofascore.p.rapidapi.com\"\n",
    "}\n",
    "\n",
    "# Récupérer les données de la heatmap\n",
    "response = requests.get(url, headers=headers, params=querystring)\n",
    "\n",
    "# Vérifier le format de la réponse\n",
    "data = response.json()\n",
    "\n",
    "# Afficher les données pour inspecter leur structure (si besoin)\n",
    "print(data)\n",
    "\n",
    "# Supposons que les coordonnées de la heatmap soient dans un champ appelé 'heatmap'\n",
    "if \"heatmap\" in data:\n",
    "    heatmap_data = data[\"heatmap\"]\n",
    "\n",
    "    # Extraire les coordonnées x et y des points de la heatmap\n",
    "    x_coords = [point[\"x\"] for point in heatmap_data]  # Coordonnée x du point\n",
    "    y_coords = [point[\"y\"] for point in heatmap_data]  # Coordonnée y du point\n",
    "\n",
    "    # Dimensions du terrain de football (en général, un terrain fait 100x64 mètres)\n",
    "    pitch_length = 100  # Longueur du terrain (en mètres)\n",
    "    pitch_width = 64    # Largeur du terrain (en mètres)\n",
    "\n",
    "    # Créer une figure pour la heatmap\n",
    "    plt.figure(figsize=(10, 6))\n",
    "\n",
    "    # Affichage du terrain de football sans grille\n",
    "    plt.plot([0, 0], [0, pitch_width], color=\"black\")  # Lignes verticales\n",
    "    plt.plot([pitch_length, pitch_length], [0, pitch_width], color=\"black\")\n",
    "    plt.plot([0, pitch_length], [0, 0], color=\"black\")  # Lignes horizontales\n",
    "    plt.plot([0, pitch_length], [pitch_width, pitch_width], color=\"black\")\n",
    "\n",
    "    # Tracer la heatmap sur le terrain (utilisation d'un scatter plot)\n",
    "    plt.scatter(x_coords, y_coords, c='red', alpha=0.5, edgecolors=\"w\", s=50)  # Points rouges avec transparence\n",
    "\n",
    "    # Ajouter un titre et des labels\n",
    "    plt.title(\"Heatmap de Mohamed Salah pendant Tottenham vs Liverpool\")\n",
    "    plt.xlabel(\"Longueur du terrain (mètres)\")\n",
    "    plt.ylabel(\"Largeur du terrain (mètres)\")\n",
    "\n",
    "    # Définir les limites du terrain\n",
    "    plt.xlim(0, pitch_length)\n",
    "    plt.ylim(0, pitch_width)\n",
    "\n",
    "    # Afficher la heatmap\n",
    "    plt.show()\n",
    "\n",
    "else:\n",
    "    print(\"Aucune donnée de heatmap trouvée dans la réponse.\")\n"
   ]
  },
  {
   "cell_type": "code",
   "execution_count": null,
   "metadata": {},
   "outputs": [],
   "source": []
  }
 ],
 "metadata": {
  "kernelspec": {
   "display_name": "base",
   "language": "python",
   "name": "python3"
  },
  "language_info": {
   "codemirror_mode": {
    "name": "ipython",
    "version": 3
   },
   "file_extension": ".py",
   "mimetype": "text/x-python",
   "name": "python",
   "nbconvert_exporter": "python",
   "pygments_lexer": "ipython3",
   "version": "3.12.7"
  }
 },
 "nbformat": 4,
 "nbformat_minor": 2
}
