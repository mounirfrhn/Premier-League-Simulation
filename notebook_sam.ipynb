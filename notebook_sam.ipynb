{
 "cells": [
  {
   "cell_type": "markdown",
   "metadata": {},
   "source": [
    "We are getting features for each players in order to forecast performance"
   ]
  },
  {
   "cell_type": "code",
   "execution_count": 82,
   "metadata": {},
   "outputs": [],
   "source": [
    "import requests"
   ]
  },
  {
   "cell_type": "code",
   "execution_count": 84,
   "metadata": {},
   "outputs": [
    {
     "name": "stdout",
     "output_type": "stream",
     "text": [
      "Premier League ID: 17\n"
     ]
    }
   ],
   "source": [
    "#getting id for premier league\n",
    "url = \"https://sofascore.p.rapidapi.com/tournaments/list\"\n",
    "querystring = {\"categoryId\":\"1\"}\n",
    "headers = {\n",
    "\t\"x-rapidapi-key\": \"3372c5dccemsh63586243fcebfbep104b94jsn6c41f060e7b8\",\n",
    "\t\"x-rapidapi-host\": \"sofascore.p.rapidapi.com\"\n",
    "}\n",
    "response_eng = requests.get(url, headers=headers, params=querystring)\n",
    "data_eng = response_eng.json()\n",
    "\n",
    "premier_league_id = None\n",
    "\n",
    "for group in data_eng['groups']:\n",
    "    for tournament in group['uniqueTournaments']:\n",
    "        if tournament['name'] == \"Premier League\":\n",
    "            premier_league_id = tournament['id']\n",
    "\n",
    "print(f\"Premier League ID: {premier_league_id}\")\n"
   ]
  },
  {
   "cell_type": "code",
   "execution_count": 85,
   "metadata": {},
   "outputs": [
    {
     "name": "stdout",
     "output_type": "stream",
     "text": [
      "[{'name': 'Bukayo Saka', 'rating': 8.0266666666667, 'appearances': 15, 'team': 'Arsenal', 'position': 'F', 'id': 934235}, {'name': 'Mohamed Salah', 'rating': 7.9, 'appearances': 15, 'team': 'Liverpool', 'position': 'F', 'id': 159665}, {'name': 'Cole Palmer', 'rating': 7.89375, 'appearances': 16, 'team': 'Chelsea', 'position': 'M', 'id': 982780}, {'name': 'Heung-min Son', 'rating': 7.6307692307692, 'appearances': 13, 'team': 'Tottenham Hotspur', 'position': 'F', 'id': 111505}, {'name': 'Matheus Cunha', 'rating': 7.5875, 'appearances': 16, 'team': 'Wolverhampton', 'position': 'F', 'id': 886363}, {'name': 'James Maddison', 'rating': 7.58125, 'appearances': 16, 'team': 'Tottenham Hotspur', 'position': 'M', 'id': 356398}, {'name': 'Mark Flekken', 'rating': 7.5375, 'appearances': 16, 'team': 'Brentford', 'position': 'G', 'id': 171919}, {'name': 'Joško Gvardiol', 'rating': 7.5266666666667, 'appearances': 15, 'team': 'Manchester City', 'position': 'D', 'id': 964994}, {'name': 'Bryan Mbeumo', 'rating': 7.475, 'appearances': 16, 'team': 'Brentford', 'position': 'F', 'id': 927083}, {'name': 'Bruno Fernandes', 'rating': 7.4125, 'appearances': 16, 'team': 'Manchester United', 'position': 'M', 'id': 288205}]\n"
     ]
    }
   ],
   "source": [
    "#building a dictionnary with our target players\n",
    "url = \"https://sofascore.p.rapidapi.com/tournaments/get-top-players\"\n",
    "querystring = {\"tournamentId\":premier_league_id,\"seasonId\":\"61627\"}\n",
    "headers = {\n",
    "\t\"x-rapidapi-key\": \"3372c5dccemsh63586243fcebfbep104b94jsn6c41f060e7b8\",\n",
    "\t\"x-rapidapi-host\": \"sofascore.p.rapidapi.com\"\n",
    "}\n",
    "response = requests.get(url, headers=headers, params=querystring)\n",
    "data = response.json()\n",
    "players = data['topPlayers']['rating']\n",
    "top_10_players = sorted(players, key=lambda x: x['statistics']['rating'], reverse=True)[:10]\n",
    "top_10_premier_league = [\n",
    "    {\n",
    "        \"name\": player['player']['name'],\n",
    "        \"rating\": player['statistics']['rating'],\n",
    "        \"appearances\": player['statistics']['appearances'],\n",
    "        \"team\": player['team']['name'],\n",
    "        \"position\": player['player']['position'],\n",
    "        \"id\":player['player']['id']\n",
    "    }\n",
    "    for player in top_10_players\n",
    "]\n",
    "print(top_10_premier_league)"
   ]
  },
  {
   "cell_type": "markdown",
   "metadata": {},
   "source": [
    "Now that we do have our target players, let's review their most recent performances, see what holds the most weight for their brillant start this season"
   ]
  },
  {
   "cell_type": "code",
   "execution_count": null,
   "metadata": {},
   "outputs": [],
   "source": [
    "for player in top_10_premier_league:\n",
    "    url = \"https://sofascore.p.rapidapi.com/players/get-last-matches\"\n",
    "\n",
    "    querystring = {\"playerId\":player[\"id\"],\"pageIndex\":\"0\"}\n",
    "    headers = {\n",
    "\t\"x-rapidapi-key\": \"3372c5dccemsh63586243fcebfbep104b94jsn6c41f060e7b8\",\n",
    "\t\"x-rapidapi-host\": \"sofascore.p.rapidapi.com\"\n",
    "    }\n",
    "    response = requests.get(url, headers=headers, params=querystring)\n",
    "    print(response.json())"
   ]
  },
  {
   "cell_type": "code",
   "execution_count": null,
   "metadata": {},
   "outputs": [],
   "source": []
  }
 ],
 "metadata": {
  "kernelspec": {
   "display_name": "base",
   "language": "python",
   "name": "python3"
  },
  "language_info": {
   "codemirror_mode": {
    "name": "ipython",
    "version": 3
   },
   "file_extension": ".py",
   "mimetype": "text/x-python",
   "name": "python",
   "nbconvert_exporter": "python",
   "pygments_lexer": "ipython3",
   "version": "3.12.7"
  }
 },
 "nbformat": 4,
 "nbformat_minor": 2
}
