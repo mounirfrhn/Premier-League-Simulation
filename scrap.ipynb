{
 "cells": [
  {
   "cell_type": "code",
   "execution_count": null,
   "metadata": {},
   "outputs": [
    {
     "name": "stdout",
     "output_type": "stream",
     "text": [
      "Defaulting to user installation because normal site-packages is not writeable\n",
      "Requirement already satisfied: requests in /home/onyxia/.local/lib/python3.10/site-packages (2.32.3)\n",
      "Requirement already satisfied: pandas in /home/onyxia/.local/lib/python3.10/site-packages (2.2.3)\n",
      "Requirement already satisfied: numpy in /home/onyxia/.local/lib/python3.10/site-packages (2.2.0)\n",
      "Requirement already satisfied: certifi>=2017.4.17 in /home/onyxia/.local/lib/python3.10/site-packages (from requests) (2024.12.14)\n",
      "Requirement already satisfied: idna<4,>=2.5 in /home/onyxia/.local/lib/python3.10/site-packages (from requests) (3.10)\n",
      "Requirement already satisfied: charset-normalizer<4,>=2 in /home/onyxia/.local/lib/python3.10/site-packages (from requests) (3.4.0)\n",
      "Requirement already satisfied: urllib3<3,>=1.21.1 in /home/onyxia/.local/lib/python3.10/site-packages (from requests) (2.2.3)\n",
      "Requirement already satisfied: tzdata>=2022.7 in /home/onyxia/.local/lib/python3.10/site-packages (from pandas) (2024.2)\n",
      "Requirement already satisfied: pytz>=2020.1 in /home/onyxia/.local/lib/python3.10/site-packages (from pandas) (2024.2)\n",
      "Requirement already satisfied: python-dateutil>=2.8.2 in /home/onyxia/.local/lib/python3.10/site-packages (from pandas) (2.9.0.post0)\n",
      "Requirement already satisfied: six>=1.5 in /usr/lib/python3/dist-packages (from python-dateutil>=2.8.2->pandas) (1.16.0)\n"
     ]
    }
   ],
   "source": [
    "#Install\n",
    "!pip install requests pandas numpy tqdm"
   ]
  },
  {
   "cell_type": "code",
   "execution_count": 50,
   "metadata": {},
   "outputs": [],
   "source": [
    "#Import\n",
    "import requests\n",
    "import pandas as pd\n",
    "import numpy as np\n",
    "import http.client, json\n",
    "from urllib.parse import urlparse\n",
    "import json\n",
    "from tqdm import tqdm"
   ]
  },
  {
   "cell_type": "markdown",
   "metadata": {},
   "source": [
    "## Premières requêtes"
   ]
  },
  {
   "cell_type": "code",
   "execution_count": 11,
   "metadata": {},
   "outputs": [],
   "source": [
    "def get_data(url):\n",
    "    parsed_url = urlparse(url)\n",
    "    conn = http.client.HTTPConnection(parsed_url.netloc)\n",
    "    conn.request(\"GET\", parsed_url.path)\n",
    "    res = conn.getresponse()\n",
    "    data = res.read()\n",
    "    jsondata = json.loads(data.decode(\"utf-8\"))\n",
    "    return jsondata"
   ]
  },
  {
   "cell_type": "code",
   "execution_count": 141,
   "metadata": {},
   "outputs": [],
   "source": [
    "def get_match_data(match_data):\n",
    "    d ={}\n",
    "\n",
    "    d['homeTeam_name'] = match_data['event']['homeTeam']['name']\n",
    "    d['homeTeam_id'] = match_data['event']['homeTeam']['id']\n",
    "    d['homeTeam_score'] = match_data['event']['homeScore']['normaltime']\n",
    "\n",
    "    d['awayTeam_name'] = match_data['event']['awayTeam']['name']\n",
    "    d['awayTeam_id'] = match_data['event']['awayTeam']['id']\n",
    "    d['awayTeam_score'] = match_data['event']['awayScore']['normaltime']\n",
    "    d['date'] = match_data['event']['startTimestamp']\n",
    "\n",
    "    return d"
   ]
  },
  {
   "cell_type": "markdown",
   "metadata": {},
   "source": [
    "idée maintenant : créer un dictionnaire : \n",
    "- key=joueur(id), \n",
    "- value = dict= (key=matchs joués par le joueur, value=statistics)"
   ]
  },
  {
   "cell_type": "markdown",
   "metadata": {},
   "source": [
    "https://www.sofascore.com/api/v1/unique-tournament/17/season/52186/events/last/0\n",
    "-> donne les id des matchs du championnat 17 sur la saisons 52186\n",
    "\n",
    "https://www.sofascore.com/api/v1/event/12436466/lineups\n",
    "-> donne les stats par joueur du match avec l'id 12436466"
   ]
  },
  {
   "cell_type": "markdown",
   "metadata": {},
   "source": [
    "## Exemple sur la saison 23-24\n",
    "1) On recupère la liste des id des matchs de la saison\n",
    "2) on boucle sur les matchs\n",
    "    -> sur chaque match, on ajoute a notre dictionnaire : \n",
    "        -> joueur : stat du match"
   ]
  },
  {
   "cell_type": "code",
   "execution_count": 24,
   "metadata": {},
   "outputs": [],
   "source": [
    "players_data = {}\n",
    "matches_id = []"
   ]
  },
  {
   "cell_type": "code",
   "execution_count": 25,
   "metadata": {},
   "outputs": [],
   "source": [
    "url_root = 'https://www.sofascore.com/api/v1/unique-tournament/17/season/52186/events/last/'\n",
    "hasNextPage = True\n",
    "i = 0\n",
    "\n",
    "while hasNextPage:\n",
    "    present_url = url_root + str(i)\n",
    "    data = get_data(present_url)\n",
    "    for match in data['events']:\n",
    "        matches_id.append(match['id'])\n",
    "    hasNextPage = data['hasNextPage'] #True or False\n",
    "    i+=1 #access to nextpage"
   ]
  },
  {
   "cell_type": "code",
   "execution_count": 27,
   "metadata": {},
   "outputs": [
    {
     "data": {
      "text/plain": [
       "380"
      ]
     },
     "execution_count": 27,
     "metadata": {},
     "output_type": "execute_result"
    }
   ],
   "source": [
    "len(matches_id)"
   ]
  },
  {
   "cell_type": "markdown",
   "metadata": {},
   "source": [
    "Il y a 38 journées de championnat et 10 match par journée donc 380 est le bon résultat"
   ]
  },
  {
   "cell_type": "code",
   "execution_count": 116,
   "metadata": {},
   "outputs": [
    {
     "data": {
      "text/plain": [
       "11352485"
      ]
     },
     "execution_count": 116,
     "metadata": {},
     "output_type": "execute_result"
    }
   ],
   "source": [
    "example_id = matches_id[0]\n",
    "example_id"
   ]
  },
  {
   "cell_type": "code",
   "execution_count": 117,
   "metadata": {},
   "outputs": [],
   "source": [
    "match_data = get_data('https://www.sofascore.com/api/v1/event/11352485')"
   ]
  },
  {
   "cell_type": "code",
   "execution_count": 123,
   "metadata": {},
   "outputs": [
    {
     "name": "stdout",
     "output_type": "stream",
     "text": [
      "tournament\n",
      "{'name': 'Premier League', 'slug': 'premier-league', 'category': {'name': 'England', 'slug': 'england', 'sport': {'name': 'Football', 'slug': 'football', 'id': 1}, 'id': 1, 'country': {'alpha2': 'EN', 'alpha3': 'ENG', 'name': 'England', 'slug': 'england'}, 'flag': 'england', 'alpha2': 'EN'}, 'uniqueTournament': {'name': 'Premier League', 'slug': 'premier-league', 'primaryColorHex': '#3c1c5a', 'secondaryColorHex': '#f80158', 'category': {'name': 'England', 'slug': 'england', 'sport': {'name': 'Football', 'slug': 'football', 'id': 1}, 'id': 1, 'country': {'alpha2': 'EN', 'alpha3': 'ENG', 'name': 'England', 'slug': 'england'}, 'flag': 'england', 'alpha2': 'EN'}, 'userCount': 1378471, 'id': 17, 'country': {}, 'hasPerformanceGraphFeature': True, 'hasEventPlayerStatistics': True, 'displayInverseHomeAwayTeams': False, 'fieldTranslations': {'nameTranslation': {'ar': 'الدوري الإنجليزي الممتاز', 'hi': 'प्रिमियर लीग'}, 'shortNameTranslation': {}}}, 'priority': 617, 'isGroup': False, 'competitionType': 1, 'isLive': False, 'id': 1, 'fieldTranslations': {'nameTranslation': {'ar': 'الدوري الإنجليزي الممتاز', 'hi': 'प्रिमियर लीग'}, 'shortNameTranslation': {}}}\n",
      "\n",
      "\n",
      "season\n",
      "{'name': 'Premier League 23/24', 'year': '23/24', 'editor': False, 'id': 52186}\n",
      "\n",
      "\n",
      "roundInfo\n",
      "{'round': 36}\n",
      "\n",
      "\n",
      "customId\n",
      "Tsab\n",
      "\n",
      "\n",
      "status\n",
      "{'code': 100, 'description': 'Ended', 'type': 'finished'}\n",
      "\n",
      "\n",
      "winnerCode\n",
      "3\n",
      "\n",
      "\n",
      "attendance\n",
      "17090\n",
      "\n",
      "\n",
      "venue\n",
      "{'city': {'name': 'London'}, 'venueCoordinates': {'latitude': 51.490713, 'longitude': -0.28898}, 'hidden': False, 'slug': 'brentford-community-stadium', 'name': 'Brentford Community Stadium', 'capacity': 17250, 'id': 29716, 'country': {'alpha2': 'EN', 'alpha3': 'ENG', 'name': 'England', 'slug': 'england'}, 'fieldTranslations': {'nameTranslation': {'ar': 'ملعب برينتفورد'}, 'shortNameTranslation': {}}, 'stadium': {'name': 'Brentford Community Stadium', 'capacity': 17250}}\n",
      "\n",
      "\n",
      "referee\n",
      "{'name': 'Graham Scott', 'slug': 'graham-scott', 'yellowCards': 993, 'redCards': 36, 'yellowRedCards': 20, 'games': 324, 'sport': {'id': 1, 'slug': 'football', 'name': 'Football'}, 'id': 88991, 'country': {'alpha2': 'EN', 'alpha3': 'ENG', 'name': 'England', 'slug': 'england'}}\n",
      "\n",
      "\n",
      "homeTeam\n",
      "{'name': 'Brentford', 'slug': 'brentford', 'shortName': 'Brentford', 'gender': 'M', 'sport': {'name': 'Football', 'slug': 'football', 'id': 1}, 'userCount': 347941, 'manager': {'name': 'Thomas Frank', 'slug': 'thomas-frank', 'shortName': 'T. Frank', 'id': 94249, 'country': {'alpha2': 'DK', 'alpha3': 'DNK', 'name': 'Denmark', 'slug': 'denmark'}, 'fieldTranslations': {'nameTranslation': {'ar': 'فرانك ، توماس'}, 'shortNameTranslation': {'ar': 'ف. ، توماس'}}}, 'venue': {'city': {'name': 'London'}, 'venueCoordinates': {'latitude': 51.490713, 'longitude': -0.28898}, 'hidden': False, 'slug': 'brentford-community-stadium', 'name': 'Brentford Community Stadium', 'capacity': 17250, 'id': 29716, 'country': {'alpha2': 'EN', 'alpha3': 'ENG', 'name': 'England', 'slug': 'england'}, 'fieldTranslations': {'nameTranslation': {'ar': 'ملعب برينتفورد'}, 'shortNameTranslation': {}}, 'stadium': {'name': 'Brentford Community Stadium', 'capacity': 17250}}, 'nameCode': 'BRE', 'class': 0, 'disabled': False, 'national': False, 'type': 0, 'id': 50, 'country': {'alpha2': 'EN', 'alpha3': 'ENG', 'name': 'England', 'slug': 'england'}, 'entityType': 'team', 'subTeams': [], 'fullName': 'Brentford', 'teamColors': {'primary': '#ffffff', 'secondary': '#ff0000', 'text': '#ff0000'}, 'foundationDateTimestamp': -2531779200, 'fieldTranslations': {'nameTranslation': {'ar': 'برينتفورد', 'ru': 'Брентфорд', 'hi': 'ब्रेंटफोर्ड'}, 'shortNameTranslation': {'ar': 'برينتفورد', 'hi': 'ब्रेंटफोर्ड'}}}\n",
      "\n",
      "\n",
      "awayTeam\n",
      "{'name': 'Fulham', 'slug': 'fulham', 'shortName': 'Fulham', 'gender': 'M', 'sport': {'name': 'Football', 'slug': 'football', 'id': 1}, 'userCount': 387535, 'manager': {'name': 'Marco Silva', 'slug': 'marco-silva', 'shortName': 'M. Silva', 'id': 205808, 'country': {'alpha2': 'PT', 'alpha3': 'PRT', 'name': 'Portugal', 'slug': 'portugal'}, 'fieldTranslations': {'nameTranslation': {'ar': 'ماركو سيلفا'}, 'shortNameTranslation': {'ar': 'م. سيلفا'}}}, 'venue': {'city': {'name': 'London'}, 'venueCoordinates': {'latitude': 51.474922, 'longitude': -0.221745}, 'hidden': False, 'slug': 'craven-cottage', 'name': 'Craven Cottage', 'capacity': 25700, 'id': 611, 'country': {'alpha2': 'EN', 'alpha3': 'ENG', 'name': 'England', 'slug': 'england'}, 'fieldTranslations': {'nameTranslation': {'ar': 'كريفن كوتيج'}, 'shortNameTranslation': {}}, 'stadium': {'name': 'Craven Cottage', 'capacity': 25700}}, 'nameCode': 'FUL', 'class': 0, 'disabled': False, 'national': False, 'type': 0, 'id': 43, 'country': {'alpha2': 'EN', 'alpha3': 'ENG', 'name': 'England', 'slug': 'england'}, 'entityType': 'team', 'subTeams': [], 'fullName': 'Fulham', 'teamColors': {'primary': '#ffffff', 'secondary': '#000000', 'text': '#000000'}, 'foundationDateTimestamp': -2841091200, 'fieldTranslations': {'nameTranslation': {'ar': 'فولهام', 'ru': 'Фулхэм', 'hi': 'फुलहम'}, 'shortNameTranslation': {'ar': 'فولهام', 'hi': 'फुलहम'}}}\n",
      "\n",
      "\n",
      "homeScore\n",
      "{'current': 0, 'display': 0, 'period1': 0, 'period2': 0, 'normaltime': 0}\n",
      "\n",
      "\n",
      "awayScore\n",
      "{'current': 0, 'display': 0, 'period1': 0, 'period2': 0, 'normaltime': 0}\n",
      "\n",
      "\n",
      "time\n",
      "{'injuryTime1': 3, 'injuryTime2': 6, 'currentPeriodStartTimestamp': 1714835266}\n",
      "\n",
      "\n",
      "changes\n",
      "{'changes': ['status.code', 'status.description', 'status.type'], 'changeTimestamp': 1714838359}\n",
      "\n",
      "\n",
      "hasGlobalHighlights\n",
      "True\n",
      "\n",
      "\n",
      "hasXg\n",
      "True\n",
      "\n",
      "\n",
      "hasEventPlayerStatistics\n",
      "True\n",
      "\n",
      "\n",
      "hasEventPlayerHeatMap\n",
      "True\n",
      "\n",
      "\n",
      "detailId\n",
      "1\n",
      "\n",
      "\n",
      "crowdsourcingDataDisplayEnabled\n",
      "False\n",
      "\n",
      "\n",
      "id\n",
      "11352485\n",
      "\n",
      "\n",
      "defaultPeriodCount\n",
      "2\n",
      "\n",
      "\n",
      "defaultPeriodLength\n",
      "45\n",
      "\n",
      "\n",
      "defaultOvertimeLength\n",
      "15\n",
      "\n",
      "\n",
      "currentPeriodStartTimestamp\n",
      "1714835266\n",
      "\n",
      "\n",
      "startTimestamp\n",
      "1714831200\n",
      "\n",
      "\n",
      "slug\n",
      "brentford-fulham\n",
      "\n",
      "\n",
      "finalResultOnly\n",
      "False\n",
      "\n",
      "\n",
      "feedLocked\n",
      "True\n",
      "\n",
      "\n",
      "fanRatingEvent\n",
      "False\n",
      "\n",
      "\n",
      "seasonStatisticsType\n",
      "overall\n",
      "\n",
      "\n",
      "showTotoPromo\n",
      "True\n",
      "\n",
      "\n",
      "isEditor\n",
      "False\n",
      "\n",
      "\n"
     ]
    }
   ],
   "source": [
    "for k,v in match_data['event'].items():\n",
    "    print(k)\n",
    "    print(v)\n",
    "    print('\\n')"
   ]
  },
  {
   "cell_type": "code",
   "execution_count": 140,
   "metadata": {},
   "outputs": [
    {
     "name": "stderr",
     "output_type": "stream",
     "text": [
      "100%|██████████| 380/380 [00:12<00:00, 30.03it/s]\n"
     ]
    }
   ],
   "source": [
    "dataset_dict = {}\n",
    "\n",
    "for id in tqdm(matches_id):\n",
    "    match_id = str(id)\n",
    "    try:\n",
    "\n",
    "        data = get_data(f'https://www.sofascore.com/api/v1/event/{id}/lineups')\n",
    "        match_json = get_data(f\"https://www.sofascore.com/api/v1/event/{match_id}\")\n",
    "        event_data = get_match_data(match_json)\n",
    "        if data['confirmed']:\n",
    "            for team in [\"home\",\"away\"]:\n",
    "                for player in data[team]['players']:\n",
    "                    player_id = str(player['player']['id'])\n",
    "\n",
    "                    if player_id not in dataset_dict: #si Joueur n'est pas dans le dataset\n",
    "                        dataset_dict[player_id] = {'player_info': player['player'], 'matches': {}}  # on lui crée un dictionnaire\n",
    "                        \n",
    "                    if match_id not in dataset_dict[player_id]['matches']:\n",
    "                        dataset_dict[player_id]['matches'][match_id] = {}\n",
    "\n",
    "                    dataset_dict[player_id]['matches'][match_id]['player_statistics'] = player['statistics']\n",
    "                    dataset_dict[player_id]['matches'][match_id]['match_info'] = match_data\n",
    "                    \n",
    "\n",
    "    except Exception as e:\n",
    "        print(f\"Erreur lors du traitement du match {match_id}: {e}\")\n",
    "\n",
    "        continue"
   ]
  },
  {
   "cell_type": "markdown",
   "metadata": {},
   "source": [
    "{\n",
    "    \"player_id\": {\n",
    "        \"info\": {\n",
    "            ...  // Informations générales du joueur\n",
    "        },\n",
    "        \"matches\": {\n",
    "            \"match_id\": {\n",
    "                \"statistics\": {\n",
    "                    ...  // Statistiques du joueur pour ce match\n",
    "                },\n",
    "                \"info\": {\n",
    "                    ...  // Informations générales du match\n",
    "                }\n",
    "            }\n",
    "        }\n",
    "    }\n",
    "}"
   ]
  },
  {
   "cell_type": "code",
   "execution_count": 134,
   "metadata": {},
   "outputs": [
    {
     "data": {
      "text/plain": [
       "dict_keys(['171919', '576384', '958916', '855864', '858195', '907072', '135256', '814873', '927083', '290927', '972421', '826057', '1031258', '805123', '885864', '1006387', '1005959', '26404', '548050', '268903', '103335', '329417', '825719', '861972', '803174', '364612', '371222', '352770', '285949', '31417', '1015256', '286165', '192442', '82566', '151499', '355528', '358694', '190877', '118179', '996985', '888971', '1009334', '856719', '1117223', '914477', '792122', '793167', '1142679', '358394', '809276', '901907', '875360', '49805', '1090458', '990550', '980643', '166381', '552632', '826183', '26989', '42209', '980634', '150396', '99090', '1136730', '372336', '866191', '866469', '914902', '113956', '823941', '994546', '855647', '560128', '333373', '42699', '162653', '1125214', '185995', '994550', '254491', '44614', '383560', '149663', '964994', '827606', '136710', '331209', '70996', '859765', '839956', '152077', '945122', '189061', '934386', '944656', '125274', '1136731', '318941', '855835', '252669', '252821', '894474', '973418', '931278', '1015267', '307284', '982613', '1013928', '786186', '886363', '845273', '846308', '138573', '1005725', '101367', '1566879', '143047', '1166679', '1402232', '994363', '219572', '216308', '115365', '842513', '48480', '907668', '1117025', '975079', '1110842', '33902', '973556', '886242', '1199043', '1127057', '31867', '1069627', '1002331', '1149855', '962883', '26025', '827679', '604232', '864169', '96538', '250223', '867887', '808590', '948261', '855817', '555386', '833956', '974577', '227942', '294593', '966874', '580550', '1099074', '1085950', '1162083', '882604', '826134', '33541', '904827', '794939', '987650', '904970', '966547', '982780', '958966', '1085381', '1016788', '769333', '827243', '996958', '1114837', '257993', '996911', '138534', '1485371', '96531', '138024', '139227', '21164', '155997', '847151', '799041', '552884', '839981', '905163', '47772', '161717', '130181', '43443', '15479', '914412', '1142343', '1212165', '280439', '1167025', '243609', '795064', '1003339', '151545', '262911', '955245', '143040', '895324', '159665', '862967', '883537', '318927', '1142636', '904897', '924871', '869856', '827362', '826215', '1008402', '927353', '553606', '913654', '829932', '998247', '856123', '844842', '1002711', '791190', '928124', '111505', '1085180', '356398', '859901', '840217', '798835', '859896', '997103', '910026', '149593', '1403192', '788134', '43215', '362682', '931844', '870360', '1109771', '193554', '988275', '978838', '864921', '848276', '285989', '795228', '877994', '148710', '103045', '581610', '39183', '997104', '1101362', '787498', '843200', '122951', '30144', '863653', '1142175', '105734', '958380', '836694', '1135873', '1086417', '359272', '971037', '1426625', '815890', '18122', '1150926', '1167382', '1461595', '1084356', '365802', '1065216', '856720', '44566', '1023567', '830659', '865167', '322391', '548188', '934354', '851596', '1106451', '361420', '895576', '336655', '1104986', '800419', '84844', '1156586', '943645', '548660', '1398550', '799251', '227212', '138530', '76632', '145188', '979563', '10589', '927361', '106337', '923973', '935543', '96535', '372344', '235460', '998832', '1145627', '1113799', '930666', '110846', '754698', '987489', '827064', '187861', '979290', '822459', '98454', '929132', '837495', '1191153', '1396445', '927360', '993451', '867583', '355154', '1006147', '1133697', '878705', '283847', '1802013', '100637', '1003334', '1122603', '932628', '603922', '1212155', '45959', '372342', '979233', '920680', '370932', '901892', '98435', '945792', '358222', '825845', '920542', '150477', '849309', '97465', '140487', '18154', '825550', '387116', '897334', '47992', '69256', '914691', '1142604', '17054', '998772', '78152', '822933', '139310', '1199282', '758168', '800417', '865912', '846252', '1064039', '867442', '50480', '358218', '979232', '871765', '359664', '833943', '983066', '843754', '45944', '190399', '885908', '1048916', '879346', '1136721', '1153434', '581310', '846036', '941168', '869792', '804434', '547410', '316148', '856714', '934235', '836705', '135666', '922573', '794839', '976037', '132874', '839410', '287643', '867445', '904835', '858194', '158263', '331737', '864898', '1186812', '786259', '1403148', '1142708', '802695', '288205', '859999', '814590', '101882', '20993', '927340', '1215904', '989056', '137789', '1468580', '788170', '355796', '32124', '1653718', '1167065', '1177007', '1518589', '825899', '282665', '781544', '1096136', '288997', '367228', '822504', '1150934', '994556', '1097425', '913942', '958959', '905290', '929717', '606164', '879349', '138310', '716', '829022', '1403061', '1402736', '876643', '1020141', '829570', '1006189', '1409108', '1136404', '1621150', '826139', '927356', '793228', '786028', '1414991', '1214988', '1463438', '352668', '974505', '1391111', '174135', '1409087', '149380', '1467402', '1142638', '1403108', '962012', '1426132', '10343', '1118002', '1142130', '1403050', '1902493', '94758', '232306', '1092974', '1142185', '1185061', '892111', '143334', '50539', '1138428', '805465', '999231', '1065227', '888550', '108508', '1000449', '1393939', '1149851', '373240', '826169', '1400646', '1145633', '970370', '983572', '1837619', '1394950', '1156644', '50027', '877102', '1009762', '944973', '1522259', '836070', '910046', '1400650', '153444', '98427', '1116593', '1082694', '920546', '242211', '1136420', '1403111', '369674', '975937', '865740', '795058', '112928', '1391824', '44760', '1005664', '1185603', '991591', '1500529', '1550811', '368134', '1820835', '1546231', '1413129', '137774', '998841', '19314', '936849', '1110110', '1000142', '1150952', '159675', '1401702', '1138843', '1089546', '826204', '190839', '996903', '13060', '1138140', '1196791', '1567897', '1515860', '193548', '1138145', '1445945', '1096447', '815202', '994557', '1138445', '190405', '989803', '1177610', '1092515', '1005686', '1176104', '856260', '980649', '1014556', '793988', '1020203', '138149', '838399', '358108', '1136418', '1176429', '911708', '1388341', '966458', '1425029', '816763', '1394099', '855731', '298366', '1130223', '989345', '186809', '979114', '1142315', '791', '1014835', '988882', '1065637', '16620', '941757', '1087748', '891920', '1400656', '1470532', '964761', '804613', '877036', '858911', '1389768', '53825', '1402922', '1117946', '991584', '27999', '1099792', '281277', '354808', '1136722', '1009386', '361790', '190853', '1134729', '927175', '115346', '921216', '931304', '841005', '146101', '1134744', '1116987', '870038', '1087919', '976263', '1069488', '1186050', '1134530', '1146145', '1410227', '1167601', '1127815', '1082714', '341589', '1152188', '1084293', '931257', '1008114', '1005689', '1131448', '954076', '1216282', '798933', '1093974', '191176', '1154861', '197848', '556904', '1212153', '1144949', '1423711', '235648', '906047', '1175204', '1119436', '892924', '105697', '218160', '51501', '1188167', '1461745', '1142311', '1142323', '1082894', '1018321', '1112604', '1153073', '1134718', '1105779', '892673', '301288', '1632524', '966869', '1143931', '860205', '862223', '100578', '33854', '996909', '210082', '1020680', '38710', '566102', '599128', '1046390', '1005766', '1004342', '227900', '851100', '1085081', '343013', '115516', '791314', '1009362', '873632', '1923294', '1142137', '149734', '920936', '1049860', '871822', '836027', '879366', '192144', '1461519', '1013987', '303638', '119159', '1014461', '1138421', '1101989', '1086286', '996910', '1142233'])"
      ]
     },
     "execution_count": 134,
     "metadata": {},
     "output_type": "execute_result"
    }
   ],
   "source": [
    "dataset_dict.keys()"
   ]
  },
  {
   "cell_type": "code",
   "execution_count": 135,
   "metadata": {},
   "outputs": [
    {
     "data": {
      "text/plain": [
       "dict_keys(['info', 'matches'])"
      ]
     },
     "execution_count": 135,
     "metadata": {},
     "output_type": "execute_result"
    }
   ],
   "source": [
    "dataset_dict[\"171919\"].keys()"
   ]
  },
  {
   "cell_type": "code",
   "execution_count": null,
   "metadata": {},
   "outputs": [
    {
     "data": {
      "text/plain": [
       "{'name': 'Mark Flekken',\n",
       " 'slug': 'mark-flekken',\n",
       " 'shortName': 'M. Flekken',\n",
       " 'position': 'G',\n",
       " 'jerseyNumber': '1',\n",
       " 'height': 194,\n",
       " 'userCount': 2008,\n",
       " 'id': 171919,\n",
       " 'country': {'alpha2': 'NL',\n",
       "  'alpha3': 'NLD',\n",
       "  'name': 'Netherlands',\n",
       "  'slug': 'netherlands'},\n",
       " 'marketValueCurrency': 'EUR',\n",
       " 'dateOfBirthTimestamp': 739929600,\n",
       " 'proposedMarketValueRaw': {'value': 12800000, 'currency': 'EUR'},\n",
       " 'fieldTranslations': {'nameTranslation': {'ar': 'فليكن, مارك'},\n",
       "  'shortNameTranslation': {'ar': 'م. فليكن'}}}"
      ]
     },
     "execution_count": 136,
     "metadata": {},
     "output_type": "execute_result"
    }
   ],
   "source": [
    "# Display player information\n",
    "dataset_dict[\"171919\"]['info']"
   ]
  },
  {
   "cell_type": "code",
   "execution_count": 137,
   "metadata": {},
   "outputs": [
    {
     "data": {
      "text/plain": [
       "dict_keys(['11352485', '11352519', '11352549', '11352434', '11352457', '11352614', '11352325', '11352355', '11352394', '11352530', '11352572', '11352599', '11352446', '11352450', '11971437', '11352521', '11352313', '11352351', '11352380', '11352547', '11352576', '11352421', '11352471', '11352487', '11352339', '11352356', '11352393', '11352660', '11352672', '11352304', '11352628', '11352643', '11352456', '11352543', '11352615', '11352309', '11352358'])"
      ]
     },
     "execution_count": 137,
     "metadata": {},
     "output_type": "execute_result"
    }
   ],
   "source": [
    "dataset_dict[\"171919\"]['matches'].keys()"
   ]
  },
  {
   "cell_type": "code",
   "execution_count": 139,
   "metadata": {},
   "outputs": [
    {
     "data": {
      "text/plain": [
       "dict_keys(['statistics', 'info'])"
      ]
     },
     "execution_count": 139,
     "metadata": {},
     "output_type": "execute_result"
    }
   ],
   "source": [
    "dataset_dict[\"171919\"]['matches']['11352485'].keys()"
   ]
  }
 ],
 "metadata": {
  "kernelspec": {
   "display_name": "Python 3",
   "language": "python",
   "name": "python3"
  },
  "language_info": {
   "codemirror_mode": {
    "name": "ipython",
    "version": 3
   },
   "file_extension": ".py",
   "mimetype": "text/x-python",
   "name": "python",
   "nbconvert_exporter": "python",
   "pygments_lexer": "ipython3",
   "version": "3.10.12"
  }
 },
 "nbformat": 4,
 "nbformat_minor": 2
}
