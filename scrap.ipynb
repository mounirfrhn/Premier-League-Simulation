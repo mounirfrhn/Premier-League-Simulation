{
 "cells": [
  {
   "cell_type": "code",
   "execution_count": 3,
   "metadata": {},
   "outputs": [
    {
     "name": "stdout",
     "output_type": "stream",
     "text": [
      "Defaulting to user installation because normal site-packages is not writeable\n",
      "Requirement already satisfied: requests in /home/onyxia/.local/lib/python3.10/site-packages (2.32.3)\n",
      "Requirement already satisfied: pandas in /home/onyxia/.local/lib/python3.10/site-packages (2.2.3)\n",
      "Requirement already satisfied: numpy in /home/onyxia/.local/lib/python3.10/site-packages (2.2.0)\n",
      "Requirement already satisfied: certifi>=2017.4.17 in /home/onyxia/.local/lib/python3.10/site-packages (from requests) (2024.12.14)\n",
      "Requirement already satisfied: idna<4,>=2.5 in /home/onyxia/.local/lib/python3.10/site-packages (from requests) (3.10)\n",
      "Requirement already satisfied: charset-normalizer<4,>=2 in /home/onyxia/.local/lib/python3.10/site-packages (from requests) (3.4.0)\n",
      "Requirement already satisfied: urllib3<3,>=1.21.1 in /home/onyxia/.local/lib/python3.10/site-packages (from requests) (2.2.3)\n",
      "Requirement already satisfied: tzdata>=2022.7 in /home/onyxia/.local/lib/python3.10/site-packages (from pandas) (2024.2)\n",
      "Requirement already satisfied: pytz>=2020.1 in /home/onyxia/.local/lib/python3.10/site-packages (from pandas) (2024.2)\n",
      "Requirement already satisfied: python-dateutil>=2.8.2 in /home/onyxia/.local/lib/python3.10/site-packages (from pandas) (2.9.0.post0)\n",
      "Requirement already satisfied: six>=1.5 in /usr/lib/python3/dist-packages (from python-dateutil>=2.8.2->pandas) (1.16.0)\n"
     ]
    }
   ],
   "source": [
    "#Install\n",
    "!pip install requests pandas numpy"
   ]
  },
  {
   "cell_type": "code",
   "execution_count": 8,
   "metadata": {},
   "outputs": [],
   "source": [
    "#Import\n",
    "import requests\n",
    "import pandas as pd\n",
    "import numpy as np\n",
    "import http.client, json\n",
    "from urllib.parse import urlparse\n",
    "import json"
   ]
  },
  {
   "cell_type": "markdown",
   "metadata": {},
   "source": [
    "## Premières requêtes"
   ]
  },
  {
   "cell_type": "code",
   "execution_count": 11,
   "metadata": {},
   "outputs": [],
   "source": [
    "def get_data(url):\n",
    "    parsed_url = urlparse(url)\n",
    "    conn = http.client.HTTPConnection(parsed_url.netloc)\n",
    "    conn.request(\"GET\", parsed_url.path)\n",
    "    res = conn.getresponse()\n",
    "    data = res.read()\n",
    "    jsondata = json.loads(data.decode(\"utf-8\"))\n",
    "    return jsondata"
   ]
  },
  {
   "cell_type": "markdown",
   "metadata": {},
   "source": [
    "idée maintenant : créer un dictionnaire : \n",
    "- key=joueur(id), \n",
    "- value = dict= (key=matchs joués par le joueur, value=statistics)"
   ]
  },
  {
   "cell_type": "markdown",
   "metadata": {},
   "source": [
    "https://www.sofascore.com/api/v1/unique-tournament/17/season/52186/events/last/0\n",
    "-> donne les id des matchs du championnat 17 sur la saisons 52186\n",
    "\n",
    "https://www.sofascore.com/api/v1/event/12436466/lineups\n",
    "-> donne les stats par joueur du match avec l'id 12436466"
   ]
  },
  {
   "cell_type": "markdown",
   "metadata": {},
   "source": [
    "## Exemple sur la saison 23-24\n",
    "1) On recupère la liste des id des matchs de la saison\n",
    "2) on boucle sur les matchs\n",
    "    -> sur chaque match, on ajoute a notre dictionnaire : \n",
    "        -> joueur : stat du match"
   ]
  },
  {
   "cell_type": "code",
   "execution_count": 24,
   "metadata": {},
   "outputs": [],
   "source": [
    "players_data = {}\n",
    "matches_id = []"
   ]
  },
  {
   "cell_type": "code",
   "execution_count": 13,
   "metadata": {},
   "outputs": [],
   "source": [
    "data = get_data('https://www.sofascore.com/api/v1/unique-tournament/17/season/52186/events/last/0')"
   ]
  },
  {
   "cell_type": "code",
   "execution_count": 15,
   "metadata": {},
   "outputs": [
    {
     "data": {
      "text/plain": [
       "dict_keys(['events', 'hasNextPage'])"
      ]
     },
     "execution_count": 15,
     "metadata": {},
     "output_type": "execute_result"
    }
   ],
   "source": [
    "data.keys()"
   ]
  },
  {
   "cell_type": "code",
   "execution_count": 16,
   "metadata": {},
   "outputs": [
    {
     "data": {
      "text/plain": [
       "True"
      ]
     },
     "execution_count": 16,
     "metadata": {},
     "output_type": "execute_result"
    }
   ],
   "source": [
    "data['hasNextPage']"
   ]
  },
  {
   "cell_type": "code",
   "execution_count": 21,
   "metadata": {},
   "outputs": [
    {
     "name": "stdout",
     "output_type": "stream",
     "text": [
      "tournament\n",
      "{'name': 'Premier League', 'slug': 'premier-league', 'category': {'name': 'England', 'slug': 'england', 'sport': {'name': 'Football', 'slug': 'football', 'id': 1}, 'id': 1, 'country': {'alpha2': 'EN', 'alpha3': 'ENG', 'name': 'England', 'slug': 'england'}, 'flag': 'england', 'alpha2': 'EN'}, 'uniqueTournament': {'name': 'Premier League', 'slug': 'premier-league', 'primaryColorHex': '#3c1c5a', 'secondaryColorHex': '#f80158', 'category': {'name': 'England', 'slug': 'england', 'sport': {'name': 'Football', 'slug': 'football', 'id': 1}, 'id': 1, 'country': {'alpha2': 'EN', 'alpha3': 'ENG', 'name': 'England', 'slug': 'england'}, 'flag': 'england', 'alpha2': 'EN'}, 'userCount': 1378471, 'hasPerformanceGraphFeature': True, 'id': 17, 'country': {}, 'hasEventPlayerStatistics': True, 'displayInverseHomeAwayTeams': False, 'fieldTranslations': {'nameTranslation': {'ar': 'الدوري الإنجليزي الممتاز', 'hi': 'प्रिमियर लीग'}, 'shortNameTranslation': {}}}, 'priority': 617, 'isGroup': False, 'isLive': False, 'id': 1, 'fieldTranslations': {'nameTranslation': {'ar': 'الدوري الإنجليزي الممتاز', 'hi': 'प्रिमियर लीग'}, 'shortNameTranslation': {}}}\n",
      "\n",
      "\n",
      "season\n",
      "{'name': 'Premier League 23/24', 'year': '23/24', 'editor': False, 'id': 52186}\n",
      "\n",
      "\n",
      "roundInfo\n",
      "{'round': 36}\n",
      "\n",
      "\n",
      "customId\n",
      "Tsab\n",
      "\n",
      "\n",
      "status\n",
      "{'code': 100, 'description': 'Ended', 'type': 'finished'}\n",
      "\n",
      "\n",
      "winnerCode\n",
      "3\n",
      "\n",
      "\n",
      "homeTeam\n",
      "{'name': 'Brentford', 'slug': 'brentford', 'shortName': 'Brentford', 'gender': 'M', 'sport': {'name': 'Football', 'slug': 'football', 'id': 1}, 'userCount': 347941, 'nameCode': 'BRE', 'disabled': False, 'national': False, 'type': 0, 'id': 50, 'country': {'alpha2': 'EN', 'alpha3': 'ENG', 'name': 'England', 'slug': 'england'}, 'entityType': 'team', 'subTeams': [], 'teamColors': {'primary': '#ffffff', 'secondary': '#ff0000', 'text': '#ff0000'}, 'fieldTranslations': {'nameTranslation': {'ar': 'برينتفورد', 'ru': 'Брентфорд', 'hi': 'ब्रेंटफोर्ड'}, 'shortNameTranslation': {'ar': 'برينتفورد', 'hi': 'ब्रेंटफोर्ड'}}}\n",
      "\n",
      "\n",
      "awayTeam\n",
      "{'name': 'Fulham', 'slug': 'fulham', 'shortName': 'Fulham', 'gender': 'M', 'sport': {'name': 'Football', 'slug': 'football', 'id': 1}, 'userCount': 387535, 'nameCode': 'FUL', 'disabled': False, 'national': False, 'type': 0, 'id': 43, 'country': {'alpha2': 'EN', 'alpha3': 'ENG', 'name': 'England', 'slug': 'england'}, 'entityType': 'team', 'subTeams': [], 'teamColors': {'primary': '#ffffff', 'secondary': '#000000', 'text': '#000000'}, 'fieldTranslations': {'nameTranslation': {'ar': 'فولهام', 'ru': 'Фулхэм', 'hi': 'फुलहम'}, 'shortNameTranslation': {'ar': 'فولهام', 'hi': 'फुलहम'}}}\n",
      "\n",
      "\n",
      "homeScore\n",
      "{'current': 0, 'display': 0, 'period1': 0, 'period2': 0, 'normaltime': 0}\n",
      "\n",
      "\n",
      "awayScore\n",
      "{'current': 0, 'display': 0, 'period1': 0, 'period2': 0, 'normaltime': 0}\n",
      "\n",
      "\n",
      "time\n",
      "{'injuryTime1': 3, 'injuryTime2': 6, 'currentPeriodStartTimestamp': 1714835266}\n",
      "\n",
      "\n",
      "changes\n",
      "{'changes': ['status.code', 'status.description', 'status.type'], 'changeTimestamp': 1714838359}\n",
      "\n",
      "\n",
      "hasGlobalHighlights\n",
      "True\n",
      "\n",
      "\n",
      "hasXg\n",
      "True\n",
      "\n",
      "\n",
      "hasEventPlayerStatistics\n",
      "True\n",
      "\n",
      "\n",
      "hasEventPlayerHeatMap\n",
      "True\n",
      "\n",
      "\n",
      "detailId\n",
      "1\n",
      "\n",
      "\n",
      "crowdsourcingDataDisplayEnabled\n",
      "False\n",
      "\n",
      "\n",
      "id\n",
      "11352485\n",
      "\n",
      "\n",
      "startTimestamp\n",
      "1714831200\n",
      "\n",
      "\n",
      "slug\n",
      "brentford-fulham\n",
      "\n",
      "\n",
      "finalResultOnly\n",
      "False\n",
      "\n",
      "\n",
      "feedLocked\n",
      "True\n",
      "\n",
      "\n",
      "isEditor\n",
      "False\n",
      "\n",
      "\n"
     ]
    }
   ],
   "source": [
    "for k,v in data['events'][0].items():\n",
    "    print(k)\n",
    "    print(v)\n",
    "    print('\\n')"
   ]
  },
  {
   "cell_type": "code",
   "execution_count": 25,
   "metadata": {},
   "outputs": [],
   "source": [
    "url_root = 'https://www.sofascore.com/api/v1/unique-tournament/17/season/52186/events/last/'\n",
    "hasNextPage = True\n",
    "i = 0\n",
    "\n",
    "while hasNextPage:\n",
    "    present_url = url_root + str(i)\n",
    "    data = get_data(present_url)\n",
    "    for match in data['events']:\n",
    "        matches_id.append(match['id'])\n",
    "    hasNextPage = data['hasNextPage'] #True or False\n",
    "    i+=1 #access to nextpage"
   ]
  },
  {
   "cell_type": "code",
   "execution_count": 27,
   "metadata": {},
   "outputs": [
    {
     "data": {
      "text/plain": [
       "380"
      ]
     },
     "execution_count": 27,
     "metadata": {},
     "output_type": "execute_result"
    }
   ],
   "source": [
    "len(matches_id)"
   ]
  },
  {
   "cell_type": "markdown",
   "metadata": {},
   "source": [
    "Il y a 38 journées de championnat et 10 match par journée donc 380 est le bon résultat"
   ]
  },
  {
   "cell_type": "code",
   "execution_count": null,
   "metadata": {},
   "outputs": [],
   "source": []
  }
 ],
 "metadata": {
  "kernelspec": {
   "display_name": "Python 3",
   "language": "python",
   "name": "python3"
  },
  "language_info": {
   "codemirror_mode": {
    "name": "ipython",
    "version": 3
   },
   "file_extension": ".py",
   "mimetype": "text/x-python",
   "name": "python",
   "nbconvert_exporter": "python",
   "pygments_lexer": "ipython3",
   "version": "3.10.12"
  }
 },
 "nbformat": 4,
 "nbformat_minor": 2
}
