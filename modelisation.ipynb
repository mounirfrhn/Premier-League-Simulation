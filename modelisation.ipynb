{
 "cells": [
  {
   "cell_type": "markdown",
   "metadata": {},
   "source": [
    "# Imports"
   ]
  },
  {
   "cell_type": "code",
   "execution_count": null,
   "metadata": {},
   "outputs": [],
   "source": [
    "!pip install scikit-learn matplotlib pandas tensorflow # python version 3.9.6"
   ]
  },
  {
   "cell_type": "code",
   "execution_count": 6,
   "metadata": {},
   "outputs": [],
   "source": [
    "import numpy as np\n",
    "from sklearn.preprocessing import StandardScaler\n",
    "from sklearn.model_selection import train_test_split\n",
    "from sklearn.linear_model import LinearRegression\n",
    "from sklearn.metrics import mean_squared_error, r2_score\n",
    "import matplotlib.pyplot as plt\n",
    "import pandas as pd\n",
    "import os"
   ]
  },
  {
   "cell_type": "markdown",
   "metadata": {},
   "source": [
    "# Naive modelisation\n",
    "Let's try to make prediction based only on Mohamed Salah's statistics \n",
    "\n",
    "The idea is to predict the goals on next match given the last 5 matchs"
   ]
  },
  {
   "cell_type": "code",
   "execution_count": 7,
   "metadata": {},
   "outputs": [],
   "source": [
    "def create_sequences(data, target_column, seq_length):\n",
    "    \"\"\"\n",
    "    Generates temporal sequences and corresponding target values for model training.\n",
    "\n",
    "    Parameters:\n",
    "    ----------\n",
    "    data : pandas.DataFrame\n",
    "        Input data containing features and the target column.\n",
    "    target_column : str\n",
    "        Name of the target column to predict.\n",
    "    seq_length : int\n",
    "        Number of time steps in each sequence.\n",
    "\n",
    "    Returns:\n",
    "    -------\n",
    "    sequences : numpy.ndarray\n",
    "        Array of shape `(n_sequences, seq_length, n_features)` containing the feature sequences.\n",
    "    targets : numpy.ndarray\n",
    "        Array of shape `(n_sequences,)` containing the target values.\n",
    "\n",
    "    Notes:\n",
    "    -----\n",
    "    - Assumes data is sorted by time.\n",
    "    - Excludes the 'date' and target columns from sequences.\n",
    "    \"\"\"\n",
    "    sequences = []\n",
    "    targets = []\n",
    "    \n",
    "    for i in range(len(data) - seq_length):\n",
    "        # Ajouter une séquence de longueur seq_length\n",
    "        sequences.append(data.iloc[i:i + seq_length].drop(columns=[target_column, 'date']).values)\n",
    "        # Ajouter la cible correspondante\n",
    "        targets.append(data.iloc[i + seq_length][target_column])\n",
    "    \n",
    "    return np.array(sequences), np.array(targets)"
   ]
  },
  {
   "cell_type": "code",
   "execution_count": 61,
   "metadata": {},
   "outputs": [
    {
     "name": "stdout",
     "output_type": "stream",
     "text": [
      "Training data shape: (18, 5, 13) (18,)\n",
      "Testing data shape: (9, 5, 13) (9,)\n"
     ]
    }
   ],
   "source": [
    "# Load and preprocess data\n",
    "df = pd.read_csv(\"data/Mohamed Salah.csv\")  # Load the dataset\n",
    "df = df.sort_values(by='date').reset_index(drop=True)  # Ensure data is sorted by time\n",
    "\n",
    "# Normalize feature columns (excluding target and date)\n",
    "features_to_normalize = df.drop(columns=[\"goals\", \"date\"]).columns\n",
    "scaler = StandardScaler()\n",
    "df[features_to_normalize] = scaler.fit_transform(df[features_to_normalize])\n",
    "\n",
    "# Create sequences for time series modeling\n",
    "seq_length = 5  # Number of time steps in each sequence\n",
    "X, y = create_sequences(df, target_column=\"goals\", seq_length=seq_length)\n",
    "\n",
    "# Split data into training and testing sets\n",
    "X_train, X_test, y_train, y_test = train_test_split(X, y, test_size=0.3, random_state=42)\n",
    "\n",
    "# Display shapes of training and testing datasets\n",
    "print(\"Training data shape:\", X_train.shape, y_train.shape)\n",
    "print(\"Testing data shape:\", X_test.shape, y_test.shape)\n"
   ]
  },
  {
   "cell_type": "code",
   "execution_count": 62,
   "metadata": {},
   "outputs": [
    {
     "name": "stdout",
     "output_type": "stream",
     "text": [
      "MSE (Linear Regression): 0.29066356339547855\n",
      "R² (Linear Regression): -0.3079860352796535\n"
     ]
    }
   ],
   "source": [
    "# Instantiate and train the Linear Regression model\n",
    "model = LinearRegression()\n",
    "\n",
    "# Flatten sequences into 2D arrays for compatibility with the model\n",
    "X_train_flat = X_train.reshape(X_train.shape[0], -1)\n",
    "X_test_flat = X_test.reshape(X_test.shape[0], -1)\n",
    "\n",
    "# Fit the model to the training data\n",
    "model.fit(X_train_flat, y_train)\n",
    "\n",
    "# Make predictions on the test data\n",
    "y_pred = model.predict(X_test_flat)\n",
    "\n",
    "# Evaluate the model's performance\n",
    "print(\"MSE (Linear Regression):\", mean_squared_error(y_test, y_pred))\n",
    "print(\"R² (Linear Regression):\", r2_score(y_test, y_pred))\n"
   ]
  },
  {
   "cell_type": "markdown",
   "metadata": {},
   "source": [
    "### Analysis of Results\n",
    "\n",
    "- The **negative \\( R^2 \\)** (-0.308) indicates that the model performs worse than a simple mean-based prediction of the target values.\n",
    "\n",
    "### Possible Causes\n",
    "\n",
    "1. **Data Size**:\n",
    "   - Only **27 observations** in total, split into **18 for training** and **9 for testing**. This small dataset makes it challenging for the model to learn meaningful relationships.\n",
    "\n",
    "2. **Sequence Issues**:\n",
    "   - Each input sequence contains 5 observations with 13 features, resulting in a flattened input vector of **65 dimensions**. With only 18 training samples, the model is likely to **overfit** or fail to learn effectively.\n",
    "\n",
    "3. **Model Inappropriateness**:\n",
    "   - Linear regression may not be suitable for capturing temporal or nonlinear relationships in the data.\n",
    "\n",
    "### Possible Improvements\n",
    "\n",
    "- **Increase the dataset size**:\n",
    "  - Collect more data to improve the model's generalization capability.\n"
   ]
  },
  {
   "cell_type": "markdown",
   "metadata": {},
   "source": [
    "# Building a More Robust Model\n",
    "\n",
    "To enhance the model's performance and generalization, the idea is to incorporate **data from multiple forward players**. By expanding the dataset beyond a single player's data, we aim to capture a wider range of playing styles, patterns, and variability in performance. This approach helps the model learn **generalizable insights** instead of overfitting to the specific traits of one player.\n",
    "\n",
    "### Why This Matters\n",
    "\n",
    "- **Diverse Data**: Including multiple forwards introduces variability, making the model better at recognizing universal patterns.\n",
    "- **Reduced Overfitting**: A broader dataset helps prevent the model from becoming too tailored to one player.\n",
    "- **Improved Predictions**: By generalizing across players, the model can provide more accurate and robust predictions for unseen data.\n",
    "\n",
    "Let’s take this model from narrow and specialized to wide and impactful!\n"
   ]
  },
  {
   "cell_type": "code",
   "execution_count": 65,
   "metadata": {},
   "outputs": [
    {
     "name": "stdout",
     "output_type": "stream",
     "text": [
      "File ignored: data/Divin Mubama.csv - Incompatible dimensions (seq: (0,), targ: (0,))\n",
      "Final shape of sequences: (1162, 5, 13)\n",
      "Final shape of targets: (1162,)\n"
     ]
    }
   ],
   "source": [
    "# Path to the folder containing data files\n",
    "path_root = 'data'\n",
    "files_path = [os.path.join(path_root, file_name) for file_name in os.listdir(path_root)]\n",
    "\n",
    "# Parameters\n",
    "seq_length = 5  # Length of each input sequence\n",
    "sequences = []\n",
    "targets = []\n",
    "\n",
    "# Iterate over all data files to process and combine data\n",
    "for file in files_path:\n",
    "    try:\n",
    "        # Load data from the current file\n",
    "        df = pd.read_csv(file)\n",
    "        \n",
    "        # Create sequences and corresponding targets\n",
    "        seq, targ = create_sequences(df, target_column=\"goals\", seq_length=seq_length)\n",
    "        \n",
    "        # Check compatibility of sequence and target dimensions\n",
    "        if seq.shape[0] == targ.shape[0] and seq.ndim == 3 and targ.ndim == 1:\n",
    "            # Append sequences and targets to the main dataset\n",
    "            if len(sequences) == 0:\n",
    "                sequences = seq\n",
    "                targets = targ\n",
    "            else:\n",
    "                sequences = np.concatenate((sequences, seq), axis=0)\n",
    "                targets = np.concatenate((targets, targ), axis=0)\n",
    "        else:\n",
    "            print(f\"File ignored: {file} - Incompatible dimensions (seq: {seq.shape}, targ: {targ.shape})\")\n",
    "    except Exception as e:\n",
    "        print(f\"Error processing file {file}: {e}\")\n",
    "\n",
    "# Final data check\n",
    "print(\"Final shape of sequences:\", sequences.shape)\n",
    "print(\"Final shape of targets:\", targets.shape)\n"
   ]
  },
  {
   "cell_type": "markdown",
   "metadata": {},
   "source": [
    "1. Linear Regression"
   ]
  },
  {
   "cell_type": "code",
   "execution_count": 69,
   "metadata": {},
   "outputs": [
    {
     "name": "stdout",
     "output_type": "stream",
     "text": [
      "Training data shape: (929, 5, 13) (929,)\n",
      "Testing data shape: (233, 5, 13) (233,)\n"
     ]
    }
   ],
   "source": [
    "from sklearn.model_selection import train_test_split\n",
    "\n",
    "# Split the dataset into training and testing sets\n",
    "# 80% of the data is used for training, and 20% for testing\n",
    "X_train, X_test, y_train, y_test = train_test_split(\n",
    "    sequences, targets, test_size=0.2, random_state=42\n",
    ")\n",
    "\n",
    "# Display the shapes of the resulting datasets\n",
    "print(\"Training data shape:\", X_train.shape, y_train.shape)\n",
    "print(\"Testing data shape:\", X_test.shape, y_test.shape)\n"
   ]
  },
  {
   "cell_type": "code",
   "execution_count": 70,
   "metadata": {},
   "outputs": [
    {
     "name": "stdout",
     "output_type": "stream",
     "text": [
      "Normalized training data shape: (929, 5, 13)\n",
      "Normalized testing data shape: (233, 5, 13)\n"
     ]
    }
   ],
   "source": [
    "# Initialize the scaler\n",
    "scaler = StandardScaler()\n",
    "\n",
    "# Fit the scaler on the training data and apply the transformation\n",
    "# The data is reshaped into 2D for scaling and then reshaped back to its original shape\n",
    "X_train_scaled = scaler.fit_transform(X_train.reshape(-1, X_train.shape[2])).reshape(X_train.shape)\n",
    "\n",
    "# Apply the same transformation to the test data\n",
    "X_test_scaled = scaler.transform(X_test.reshape(-1, X_test.shape[2])).reshape(X_test.shape)\n",
    "\n",
    "# Display the shapes of the normalized datasets\n",
    "print(\"Normalized training data shape:\", X_train_scaled.shape)\n",
    "print(\"Normalized testing data shape:\", X_test_scaled.shape)"
   ]
  },
  {
   "cell_type": "code",
   "execution_count": 71,
   "metadata": {},
   "outputs": [
    {
     "name": "stdout",
     "output_type": "stream",
     "text": [
      "Flattened training data shape for RL and RF: (929, 65)\n",
      "Flattened testing data shape for RL and RF: (233, 65)\n"
     ]
    }
   ],
   "source": [
    "# Flatten sequences for Linear Regression (RL) and Random Forest (RF)\n",
    "# Each sequence is reshaped from 3D (samples, time steps, features) to 2D (samples, flattened features)\n",
    "X_train_flat = X_train.reshape(X_train.shape[0], -1)\n",
    "X_test_flat = X_test.reshape(X_test.shape[0], -1)\n",
    "\n",
    "# Display the shapes of the flattened datasets\n",
    "print(\"Flattened training data shape for RL and RF:\", X_train_flat.shape)\n",
    "print(\"Flattened testing data shape for RL and RF:\", X_test_flat.shape)\n"
   ]
  },
  {
   "cell_type": "code",
   "execution_count": 50,
   "metadata": {},
   "outputs": [
    {
     "name": "stdout",
     "output_type": "stream",
     "text": [
      "MSE (RL): 0.492513597289767\n",
      "R² (RL): -0.2534282786019968\n"
     ]
    }
   ],
   "source": [
    "from sklearn.linear_model import LinearRegression\n",
    "from sklearn.metrics import mean_squared_error, r2_score\n",
    "\n",
    "# Train the Linear Regression model\n",
    "model_rl = LinearRegression()\n",
    "model_rl.fit(X_train_flat, y_train)\n",
    "\n",
    "# Make predictions on the test data\n",
    "y_pred_rl = model_rl.predict(X_test_flat)\n",
    "\n",
    "# Evaluate the model using MSE and R² metrics\n",
    "mse_rl = mean_squared_error(y_test, y_pred_rl)\n",
    "r2_rl = r2_score(y_test, y_pred_rl)\n",
    "\n",
    "# Print evaluation results\n",
    "print(\"MSE (RL):\", mse_rl)\n",
    "print(\"R² (RL):\", r2_rl)\n"
   ]
  },
  {
   "cell_type": "code",
   "execution_count": 72,
   "metadata": {},
   "outputs": [
    {
     "name": "stdout",
     "output_type": "stream",
     "text": [
      "MSE (RF): 0.40620085836909875\n",
      "R² (RF): -0.03765473367212513\n"
     ]
    }
   ],
   "source": [
    "from sklearn.ensemble import RandomForestRegressor\n",
    "from sklearn.metrics import mean_squared_error, r2_score\n",
    "\n",
    "# Train the Random Forest model\n",
    "# Random Forest uses multiple decision trees to improve predictions\n",
    "model_rf = RandomForestRegressor(n_estimators=100, random_state=42)\n",
    "model_rf.fit(X_train_flat, y_train)\n",
    "\n",
    "# Make predictions on the test data\n",
    "y_pred_rf = model_rf.predict(X_test_flat)\n",
    "\n",
    "# Evaluate the model using MSE and R² metrics\n",
    "mse_rf = mean_squared_error(y_test, y_pred_rf)\n",
    "r2_rf = r2_score(y_test, y_pred_rf)\n",
    "\n",
    "# Print evaluation results\n",
    "print(\"MSE (RF):\", mse_rf)\n",
    "print(\"R² (RF):\", r2_rf)\n"
   ]
  },
  {
   "cell_type": "code",
   "execution_count": 52,
   "metadata": {},
   "outputs": [
    {
     "name": "stdout",
     "output_type": "stream",
     "text": [
      "Requirement already satisfied: tensorflow in ./.venv/lib/python3.9/site-packages (2.18.0)\n",
      "Requirement already satisfied: absl-py>=1.0.0 in ./.venv/lib/python3.9/site-packages (from tensorflow) (2.1.0)\n",
      "Requirement already satisfied: astunparse>=1.6.0 in ./.venv/lib/python3.9/site-packages (from tensorflow) (1.6.3)\n",
      "Requirement already satisfied: flatbuffers>=24.3.25 in ./.venv/lib/python3.9/site-packages (from tensorflow) (24.12.23)\n",
      "Requirement already satisfied: gast!=0.5.0,!=0.5.1,!=0.5.2,>=0.2.1 in ./.venv/lib/python3.9/site-packages (from tensorflow) (0.6.0)\n",
      "Requirement already satisfied: google-pasta>=0.1.1 in ./.venv/lib/python3.9/site-packages (from tensorflow) (0.2.0)\n",
      "Requirement already satisfied: libclang>=13.0.0 in ./.venv/lib/python3.9/site-packages (from tensorflow) (18.1.1)\n",
      "Requirement already satisfied: opt-einsum>=2.3.2 in ./.venv/lib/python3.9/site-packages (from tensorflow) (3.4.0)\n",
      "Requirement already satisfied: packaging in ./.venv/lib/python3.9/site-packages (from tensorflow) (24.2)\n",
      "Requirement already satisfied: protobuf!=4.21.0,!=4.21.1,!=4.21.2,!=4.21.3,!=4.21.4,!=4.21.5,<6.0.0dev,>=3.20.3 in ./.venv/lib/python3.9/site-packages (from tensorflow) (5.29.2)\n",
      "Requirement already satisfied: requests<3,>=2.21.0 in ./.venv/lib/python3.9/site-packages (from tensorflow) (2.32.3)\n",
      "Requirement already satisfied: setuptools in ./.venv/lib/python3.9/site-packages (from tensorflow) (58.0.4)\n",
      "Requirement already satisfied: six>=1.12.0 in ./.venv/lib/python3.9/site-packages (from tensorflow) (1.17.0)\n",
      "Requirement already satisfied: termcolor>=1.1.0 in ./.venv/lib/python3.9/site-packages (from tensorflow) (2.5.0)\n",
      "Requirement already satisfied: typing-extensions>=3.6.6 in ./.venv/lib/python3.9/site-packages (from tensorflow) (4.12.2)\n",
      "Requirement already satisfied: wrapt>=1.11.0 in ./.venv/lib/python3.9/site-packages (from tensorflow) (1.17.0)\n",
      "Requirement already satisfied: grpcio<2.0,>=1.24.3 in ./.venv/lib/python3.9/site-packages (from tensorflow) (1.68.1)\n",
      "Requirement already satisfied: tensorboard<2.19,>=2.18 in ./.venv/lib/python3.9/site-packages (from tensorflow) (2.18.0)\n",
      "Requirement already satisfied: keras>=3.5.0 in ./.venv/lib/python3.9/site-packages (from tensorflow) (3.7.0)\n",
      "Requirement already satisfied: numpy<2.1.0,>=1.26.0 in ./.venv/lib/python3.9/site-packages (from tensorflow) (2.0.2)\n",
      "Requirement already satisfied: h5py>=3.11.0 in ./.venv/lib/python3.9/site-packages (from tensorflow) (3.12.1)\n",
      "Requirement already satisfied: ml-dtypes<0.5.0,>=0.4.0 in ./.venv/lib/python3.9/site-packages (from tensorflow) (0.4.1)\n",
      "Requirement already satisfied: tensorflow-io-gcs-filesystem>=0.23.1 in ./.venv/lib/python3.9/site-packages (from tensorflow) (0.37.1)\n",
      "Requirement already satisfied: wheel<1.0,>=0.23.0 in ./.venv/lib/python3.9/site-packages (from astunparse>=1.6.0->tensorflow) (0.45.1)\n",
      "Requirement already satisfied: rich in ./.venv/lib/python3.9/site-packages (from keras>=3.5.0->tensorflow) (13.9.4)\n",
      "Requirement already satisfied: namex in ./.venv/lib/python3.9/site-packages (from keras>=3.5.0->tensorflow) (0.0.8)\n",
      "Requirement already satisfied: optree in ./.venv/lib/python3.9/site-packages (from keras>=3.5.0->tensorflow) (0.13.1)\n",
      "Requirement already satisfied: charset-normalizer<4,>=2 in ./.venv/lib/python3.9/site-packages (from requests<3,>=2.21.0->tensorflow) (3.4.1)\n",
      "Requirement already satisfied: idna<4,>=2.5 in ./.venv/lib/python3.9/site-packages (from requests<3,>=2.21.0->tensorflow) (3.10)\n",
      "Requirement already satisfied: urllib3<3,>=1.21.1 in ./.venv/lib/python3.9/site-packages (from requests<3,>=2.21.0->tensorflow) (2.3.0)\n",
      "Requirement already satisfied: certifi>=2017.4.17 in ./.venv/lib/python3.9/site-packages (from requests<3,>=2.21.0->tensorflow) (2024.12.14)\n",
      "Requirement already satisfied: markdown>=2.6.8 in ./.venv/lib/python3.9/site-packages (from tensorboard<2.19,>=2.18->tensorflow) (3.7)\n",
      "Requirement already satisfied: tensorboard-data-server<0.8.0,>=0.7.0 in ./.venv/lib/python3.9/site-packages (from tensorboard<2.19,>=2.18->tensorflow) (0.7.2)\n",
      "Requirement already satisfied: werkzeug>=1.0.1 in ./.venv/lib/python3.9/site-packages (from tensorboard<2.19,>=2.18->tensorflow) (3.1.3)\n",
      "Requirement already satisfied: importlib-metadata>=4.4 in ./.venv/lib/python3.9/site-packages (from markdown>=2.6.8->tensorboard<2.19,>=2.18->tensorflow) (8.5.0)\n",
      "Requirement already satisfied: MarkupSafe>=2.1.1 in ./.venv/lib/python3.9/site-packages (from werkzeug>=1.0.1->tensorboard<2.19,>=2.18->tensorflow) (3.0.2)\n",
      "Requirement already satisfied: markdown-it-py>=2.2.0 in ./.venv/lib/python3.9/site-packages (from rich->keras>=3.5.0->tensorflow) (3.0.0)\n",
      "Requirement already satisfied: pygments<3.0.0,>=2.13.0 in ./.venv/lib/python3.9/site-packages (from rich->keras>=3.5.0->tensorflow) (2.18.0)\n",
      "Requirement already satisfied: zipp>=3.20 in ./.venv/lib/python3.9/site-packages (from importlib-metadata>=4.4->markdown>=2.6.8->tensorboard<2.19,>=2.18->tensorflow) (3.21.0)\n",
      "Requirement already satisfied: mdurl~=0.1 in ./.venv/lib/python3.9/site-packages (from markdown-it-py>=2.2.0->rich->keras>=3.5.0->tensorflow) (0.1.2)\n"
     ]
    }
   ],
   "source": [
    "!pip install tensorflow\n"
   ]
  },
  {
   "cell_type": "code",
   "execution_count": 73,
   "metadata": {},
   "outputs": [
    {
     "name": "stdout",
     "output_type": "stream",
     "text": [
      "Epoch 1/50\n"
     ]
    },
    {
     "name": "stderr",
     "output_type": "stream",
     "text": [
      "/Users/mounir/Desktop/Premier-League-Simulation/.venv/lib/python3.9/site-packages/keras/src/layers/rnn/rnn.py:200: UserWarning: Do not pass an `input_shape`/`input_dim` argument to a layer. When using Sequential models, prefer using an `Input(shape)` object as the first layer in the model instead.\n",
      "  super().__init__(**kwargs)\n"
     ]
    },
    {
     "name": "stdout",
     "output_type": "stream",
     "text": [
      "\u001b[1m47/47\u001b[0m \u001b[32m━━━━━━━━━━━━━━━━━━━━\u001b[0m\u001b[37m\u001b[0m \u001b[1m1s\u001b[0m 7ms/step - loss: 53.3325 - mae: 5.1688 - val_loss: 4.5458 - val_mae: 1.6210\n",
      "Epoch 2/50\n",
      "\u001b[1m47/47\u001b[0m \u001b[32m━━━━━━━━━━━━━━━━━━━━\u001b[0m\u001b[37m\u001b[0m \u001b[1m0s\u001b[0m 3ms/step - loss: 3.5881 - mae: 1.4107 - val_loss: 1.5773 - val_mae: 0.9769\n",
      "Epoch 3/50\n",
      "\u001b[1m47/47\u001b[0m \u001b[32m━━━━━━━━━━━━━━━━━━━━\u001b[0m\u001b[37m\u001b[0m \u001b[1m0s\u001b[0m 3ms/step - loss: 1.1985 - mae: 0.8418 - val_loss: 0.8624 - val_mae: 0.7246\n",
      "Epoch 4/50\n",
      "\u001b[1m47/47\u001b[0m \u001b[32m━━━━━━━━━━━━━━━━━━━━\u001b[0m\u001b[37m\u001b[0m \u001b[1m0s\u001b[0m 3ms/step - loss: 0.6093 - mae: 0.6068 - val_loss: 0.5431 - val_mae: 0.5553\n",
      "Epoch 5/50\n",
      "\u001b[1m47/47\u001b[0m \u001b[32m━━━━━━━━━━━━━━━━━━━━\u001b[0m\u001b[37m\u001b[0m \u001b[1m0s\u001b[0m 3ms/step - loss: 0.4909 - mae: 0.5398 - val_loss: 0.4710 - val_mae: 0.5399\n",
      "Epoch 6/50\n",
      "\u001b[1m47/47\u001b[0m \u001b[32m━━━━━━━━━━━━━━━━━━━━\u001b[0m\u001b[37m\u001b[0m \u001b[1m0s\u001b[0m 3ms/step - loss: 0.4166 - mae: 0.5031 - val_loss: 0.5516 - val_mae: 0.5487\n",
      "Epoch 7/50\n",
      "\u001b[1m47/47\u001b[0m \u001b[32m━━━━━━━━━━━━━━━━━━━━\u001b[0m\u001b[37m\u001b[0m \u001b[1m0s\u001b[0m 3ms/step - loss: 0.4082 - mae: 0.4762 - val_loss: 0.4885 - val_mae: 0.5218\n",
      "Epoch 8/50\n",
      "\u001b[1m47/47\u001b[0m \u001b[32m━━━━━━━━━━━━━━━━━━━━\u001b[0m\u001b[37m\u001b[0m \u001b[1m0s\u001b[0m 4ms/step - loss: 0.3941 - mae: 0.4742 - val_loss: 0.4454 - val_mae: 0.5144\n",
      "Epoch 9/50\n",
      "\u001b[1m47/47\u001b[0m \u001b[32m━━━━━━━━━━━━━━━━━━━━\u001b[0m\u001b[37m\u001b[0m \u001b[1m0s\u001b[0m 4ms/step - loss: 0.3759 - mae: 0.4762 - val_loss: 0.5648 - val_mae: 0.5753\n",
      "Epoch 10/50\n",
      "\u001b[1m47/47\u001b[0m \u001b[32m━━━━━━━━━━━━━━━━━━━━\u001b[0m\u001b[37m\u001b[0m \u001b[1m0s\u001b[0m 4ms/step - loss: 0.4046 - mae: 0.4816 - val_loss: 0.4551 - val_mae: 0.5353\n",
      "Epoch 11/50\n",
      "\u001b[1m47/47\u001b[0m \u001b[32m━━━━━━━━━━━━━━━━━━━━\u001b[0m\u001b[37m\u001b[0m \u001b[1m0s\u001b[0m 3ms/step - loss: 0.3221 - mae: 0.4245 - val_loss: 0.4467 - val_mae: 0.5152\n",
      "Epoch 12/50\n",
      "\u001b[1m47/47\u001b[0m \u001b[32m━━━━━━━━━━━━━━━━━━━━\u001b[0m\u001b[37m\u001b[0m \u001b[1m0s\u001b[0m 5ms/step - loss: 0.3274 - mae: 0.4274 - val_loss: 0.4142 - val_mae: 0.4842\n",
      "Epoch 13/50\n",
      "\u001b[1m47/47\u001b[0m \u001b[32m━━━━━━━━━━━━━━━━━━━━\u001b[0m\u001b[37m\u001b[0m \u001b[1m0s\u001b[0m 4ms/step - loss: 0.3247 - mae: 0.4339 - val_loss: 0.4273 - val_mae: 0.4922\n",
      "Epoch 14/50\n",
      "\u001b[1m47/47\u001b[0m \u001b[32m━━━━━━━━━━━━━━━━━━━━\u001b[0m\u001b[37m\u001b[0m \u001b[1m0s\u001b[0m 4ms/step - loss: 0.2795 - mae: 0.4031 - val_loss: 0.5937 - val_mae: 0.5648\n",
      "Epoch 15/50\n",
      "\u001b[1m47/47\u001b[0m \u001b[32m━━━━━━━━━━━━━━━━━━━━\u001b[0m\u001b[37m\u001b[0m \u001b[1m0s\u001b[0m 3ms/step - loss: 0.3561 - mae: 0.4500 - val_loss: 0.4707 - val_mae: 0.5434\n",
      "Epoch 16/50\n",
      "\u001b[1m47/47\u001b[0m \u001b[32m━━━━━━━━━━━━━━━━━━━━\u001b[0m\u001b[37m\u001b[0m \u001b[1m0s\u001b[0m 4ms/step - loss: 0.3080 - mae: 0.4335 - val_loss: 0.4534 - val_mae: 0.5193\n",
      "Epoch 17/50\n",
      "\u001b[1m47/47\u001b[0m \u001b[32m━━━━━━━━━━━━━━━━━━━━\u001b[0m\u001b[37m\u001b[0m \u001b[1m0s\u001b[0m 3ms/step - loss: 0.2945 - mae: 0.4021 - val_loss: 0.4180 - val_mae: 0.5167\n",
      "Epoch 18/50\n",
      "\u001b[1m47/47\u001b[0m \u001b[32m━━━━━━━━━━━━━━━━━━━━\u001b[0m\u001b[37m\u001b[0m \u001b[1m0s\u001b[0m 3ms/step - loss: 0.2768 - mae: 0.4112 - val_loss: 0.4160 - val_mae: 0.4790\n",
      "Epoch 19/50\n",
      "\u001b[1m47/47\u001b[0m \u001b[32m━━━━━━━━━━━━━━━━━━━━\u001b[0m\u001b[37m\u001b[0m \u001b[1m0s\u001b[0m 4ms/step - loss: 0.2604 - mae: 0.3744 - val_loss: 0.4530 - val_mae: 0.5584\n",
      "Epoch 20/50\n",
      "\u001b[1m47/47\u001b[0m \u001b[32m━━━━━━━━━━━━━━━━━━━━\u001b[0m\u001b[37m\u001b[0m \u001b[1m0s\u001b[0m 3ms/step - loss: 0.2816 - mae: 0.4054 - val_loss: 0.4131 - val_mae: 0.4980\n",
      "Epoch 21/50\n",
      "\u001b[1m47/47\u001b[0m \u001b[32m━━━━━━━━━━━━━━━━━━━━\u001b[0m\u001b[37m\u001b[0m \u001b[1m0s\u001b[0m 4ms/step - loss: 0.2225 - mae: 0.3460 - val_loss: 0.4196 - val_mae: 0.5213\n",
      "Epoch 22/50\n",
      "\u001b[1m47/47\u001b[0m \u001b[32m━━━━━━━━━━━━━━━━━━━━\u001b[0m\u001b[37m\u001b[0m \u001b[1m0s\u001b[0m 3ms/step - loss: 0.2422 - mae: 0.3676 - val_loss: 0.4435 - val_mae: 0.5394\n",
      "Epoch 23/50\n",
      "\u001b[1m47/47\u001b[0m \u001b[32m━━━━━━━━━━━━━━━━━━━━\u001b[0m\u001b[37m\u001b[0m \u001b[1m0s\u001b[0m 4ms/step - loss: 0.2436 - mae: 0.3771 - val_loss: 0.4292 - val_mae: 0.5027\n",
      "Epoch 24/50\n",
      "\u001b[1m47/47\u001b[0m \u001b[32m━━━━━━━━━━━━━━━━━━━━\u001b[0m\u001b[37m\u001b[0m \u001b[1m0s\u001b[0m 3ms/step - loss: 0.2271 - mae: 0.3476 - val_loss: 0.4363 - val_mae: 0.5090\n",
      "Epoch 25/50\n",
      "\u001b[1m47/47\u001b[0m \u001b[32m━━━━━━━━━━━━━━━━━━━━\u001b[0m\u001b[37m\u001b[0m \u001b[1m0s\u001b[0m 4ms/step - loss: 0.2263 - mae: 0.3549 - val_loss: 0.4310 - val_mae: 0.5350\n",
      "Epoch 26/50\n",
      "\u001b[1m47/47\u001b[0m \u001b[32m━━━━━━━━━━━━━━━━━━━━\u001b[0m\u001b[37m\u001b[0m \u001b[1m0s\u001b[0m 3ms/step - loss: 0.2617 - mae: 0.3847 - val_loss: 0.5210 - val_mae: 0.5096\n",
      "Epoch 27/50\n",
      "\u001b[1m47/47\u001b[0m \u001b[32m━━━━━━━━━━━━━━━━━━━━\u001b[0m\u001b[37m\u001b[0m \u001b[1m0s\u001b[0m 4ms/step - loss: 0.2817 - mae: 0.3933 - val_loss: 0.4773 - val_mae: 0.4781\n",
      "Epoch 28/50\n",
      "\u001b[1m47/47\u001b[0m \u001b[32m━━━━━━━━━━━━━━━━━━━━\u001b[0m\u001b[37m\u001b[0m \u001b[1m0s\u001b[0m 4ms/step - loss: 0.2671 - mae: 0.3757 - val_loss: 0.4117 - val_mae: 0.4850\n",
      "Epoch 29/50\n",
      "\u001b[1m47/47\u001b[0m \u001b[32m━━━━━━━━━━━━━━━━━━━━\u001b[0m\u001b[37m\u001b[0m \u001b[1m0s\u001b[0m 3ms/step - loss: 0.2082 - mae: 0.3407 - val_loss: 0.4278 - val_mae: 0.5268\n",
      "Epoch 30/50\n",
      "\u001b[1m47/47\u001b[0m \u001b[32m━━━━━━━━━━━━━━━━━━━━\u001b[0m\u001b[37m\u001b[0m \u001b[1m0s\u001b[0m 3ms/step - loss: 0.2143 - mae: 0.3426 - val_loss: 0.3953 - val_mae: 0.4837\n",
      "Epoch 31/50\n",
      "\u001b[1m47/47\u001b[0m \u001b[32m━━━━━━━━━━━━━━━━━━━━\u001b[0m\u001b[37m\u001b[0m \u001b[1m0s\u001b[0m 4ms/step - loss: 0.2082 - mae: 0.3393 - val_loss: 0.4351 - val_mae: 0.4898\n",
      "Epoch 32/50\n",
      "\u001b[1m47/47\u001b[0m \u001b[32m━━━━━━━━━━━━━━━━━━━━\u001b[0m\u001b[37m\u001b[0m \u001b[1m0s\u001b[0m 5ms/step - loss: 0.2086 - mae: 0.3543 - val_loss: 0.3997 - val_mae: 0.4781\n",
      "Epoch 33/50\n",
      "\u001b[1m47/47\u001b[0m \u001b[32m━━━━━━━━━━━━━━━━━━━━\u001b[0m\u001b[37m\u001b[0m \u001b[1m0s\u001b[0m 3ms/step - loss: 0.2072 - mae: 0.3401 - val_loss: 0.4132 - val_mae: 0.5124\n",
      "Epoch 34/50\n",
      "\u001b[1m47/47\u001b[0m \u001b[32m━━━━━━━━━━━━━━━━━━━━\u001b[0m\u001b[37m\u001b[0m \u001b[1m0s\u001b[0m 4ms/step - loss: 0.2150 - mae: 0.3409 - val_loss: 0.4494 - val_mae: 0.4838\n",
      "Epoch 35/50\n",
      "\u001b[1m47/47\u001b[0m \u001b[32m━━━━━━━━━━━━━━━━━━━━\u001b[0m\u001b[37m\u001b[0m \u001b[1m0s\u001b[0m 3ms/step - loss: 0.2205 - mae: 0.3525 - val_loss: 0.5143 - val_mae: 0.5780\n",
      "Epoch 36/50\n",
      "\u001b[1m47/47\u001b[0m \u001b[32m━━━━━━━━━━━━━━━━━━━━\u001b[0m\u001b[37m\u001b[0m \u001b[1m0s\u001b[0m 3ms/step - loss: 0.2112 - mae: 0.3508 - val_loss: 0.4333 - val_mae: 0.4868\n",
      "Epoch 37/50\n",
      "\u001b[1m47/47\u001b[0m \u001b[32m━━━━━━━━━━━━━━━━━━━━\u001b[0m\u001b[37m\u001b[0m \u001b[1m0s\u001b[0m 3ms/step - loss: 0.1847 - mae: 0.3256 - val_loss: 0.4108 - val_mae: 0.4936\n",
      "Epoch 38/50\n",
      "\u001b[1m47/47\u001b[0m \u001b[32m━━━━━━━━━━━━━━━━━━━━\u001b[0m\u001b[37m\u001b[0m \u001b[1m0s\u001b[0m 4ms/step - loss: 0.1881 - mae: 0.3160 - val_loss: 0.3964 - val_mae: 0.4963\n",
      "Epoch 39/50\n",
      "\u001b[1m47/47\u001b[0m \u001b[32m━━━━━━━━━━━━━━━━━━━━\u001b[0m\u001b[37m\u001b[0m \u001b[1m0s\u001b[0m 3ms/step - loss: 0.1864 - mae: 0.3263 - val_loss: 0.4392 - val_mae: 0.5111\n",
      "Epoch 40/50\n",
      "\u001b[1m47/47\u001b[0m \u001b[32m━━━━━━━━━━━━━━━━━━━━\u001b[0m\u001b[37m\u001b[0m \u001b[1m0s\u001b[0m 3ms/step - loss: 0.1953 - mae: 0.3290 - val_loss: 0.3987 - val_mae: 0.4881\n",
      "Epoch 41/50\n",
      "\u001b[1m47/47\u001b[0m \u001b[32m━━━━━━━━━━━━━━━━━━━━\u001b[0m\u001b[37m\u001b[0m \u001b[1m0s\u001b[0m 4ms/step - loss: 0.1969 - mae: 0.3304 - val_loss: 0.4386 - val_mae: 0.5083\n",
      "Epoch 42/50\n",
      "\u001b[1m47/47\u001b[0m \u001b[32m━━━━━━━━━━━━━━━━━━━━\u001b[0m\u001b[37m\u001b[0m \u001b[1m0s\u001b[0m 4ms/step - loss: 0.1831 - mae: 0.3137 - val_loss: 0.4095 - val_mae: 0.4913\n",
      "Epoch 43/50\n",
      "\u001b[1m47/47\u001b[0m \u001b[32m━━━━━━━━━━━━━━━━━━━━\u001b[0m\u001b[37m\u001b[0m \u001b[1m0s\u001b[0m 4ms/step - loss: 0.1799 - mae: 0.3094 - val_loss: 0.4060 - val_mae: 0.4947\n",
      "Epoch 44/50\n",
      "\u001b[1m47/47\u001b[0m \u001b[32m━━━━━━━━━━━━━━━━━━━━\u001b[0m\u001b[37m\u001b[0m \u001b[1m0s\u001b[0m 3ms/step - loss: 0.1802 - mae: 0.3164 - val_loss: 0.4287 - val_mae: 0.4942\n",
      "Epoch 45/50\n",
      "\u001b[1m47/47\u001b[0m \u001b[32m━━━━━━━━━━━━━━━━━━━━\u001b[0m\u001b[37m\u001b[0m \u001b[1m0s\u001b[0m 3ms/step - loss: 0.1847 - mae: 0.3178 - val_loss: 0.4998 - val_mae: 0.5696\n",
      "Epoch 46/50\n",
      "\u001b[1m47/47\u001b[0m \u001b[32m━━━━━━━━━━━━━━━━━━━━\u001b[0m\u001b[37m\u001b[0m \u001b[1m0s\u001b[0m 3ms/step - loss: 0.1767 - mae: 0.3059 - val_loss: 0.4159 - val_mae: 0.5091\n",
      "Epoch 47/50\n",
      "\u001b[1m47/47\u001b[0m \u001b[32m━━━━━━━━━━━━━━━━━━━━\u001b[0m\u001b[37m\u001b[0m \u001b[1m0s\u001b[0m 3ms/step - loss: 0.1639 - mae: 0.3018 - val_loss: 0.4237 - val_mae: 0.4953\n",
      "Epoch 48/50\n",
      "\u001b[1m47/47\u001b[0m \u001b[32m━━━━━━━━━━━━━━━━━━━━\u001b[0m\u001b[37m\u001b[0m \u001b[1m0s\u001b[0m 4ms/step - loss: 0.1667 - mae: 0.2980 - val_loss: 0.4322 - val_mae: 0.5192\n",
      "Epoch 49/50\n",
      "\u001b[1m47/47\u001b[0m \u001b[32m━━━━━━━━━━━━━━━━━━━━\u001b[0m\u001b[37m\u001b[0m \u001b[1m0s\u001b[0m 3ms/step - loss: 0.1492 - mae: 0.2833 - val_loss: 0.4394 - val_mae: 0.5059\n",
      "Epoch 50/50\n",
      "\u001b[1m47/47\u001b[0m \u001b[32m━━━━━━━━━━━━━━━━━━━━\u001b[0m\u001b[37m\u001b[0m \u001b[1m0s\u001b[0m 3ms/step - loss: 0.1935 - mae: 0.3159 - val_loss: 0.4857 - val_mae: 0.5657\n",
      "\u001b[1m8/8\u001b[0m \u001b[32m━━━━━━━━━━━━━━━━━━━━\u001b[0m\u001b[37m\u001b[0m \u001b[1m0s\u001b[0m 18ms/step\n",
      "MSE (LSTM): 0.6022033498238224\n",
      "R² (LSTM): -0.5383501627416476\n"
     ]
    }
   ],
   "source": [
    "from tensorflow.keras.models import Sequential\n",
    "from tensorflow.keras.layers import LSTM, Dense\n",
    "from tensorflow.keras.optimizers import Adam\n",
    "from sklearn.metrics import mean_squared_error, r2_score\n",
    "\n",
    "# Build the LSTM model\n",
    "model_lstm = Sequential([\n",
    "    LSTM(50, activation='relu', input_shape=(X_train.shape[1], X_train.shape[2])),\n",
    "    Dense(1)  # Output layer for a single prediction\n",
    "])\n",
    "\n",
    "# Compile the model\n",
    "# Using Mean Squared Error (MSE) as loss and Mean Absolute Error (MAE) as a metric\n",
    "model_lstm.compile(optimizer=Adam(learning_rate=0.001), loss='mse', metrics=['mae'])\n",
    "\n",
    "# Train the model\n",
    "history = model_lstm.fit(\n",
    "    X_train, y_train, \n",
    "    epochs=50, batch_size=16, \n",
    "    validation_split=0.2, verbose=1\n",
    ")\n",
    "\n",
    "# Make predictions on the test data\n",
    "y_pred_lstm = model_lstm.predict(X_test).flatten()\n",
    "\n",
    "# Evaluate the model\n",
    "mse_lstm = mean_squared_error(y_test, y_pred_lstm)\n",
    "r2_lstm = r2_score(y_test, y_pred_lstm)\n",
    "\n",
    "# Print evaluation results\n",
    "print(\"MSE (LSTM):\", mse_lstm)\n",
    "print(\"R² (LSTM):\", r2_lstm)\n"
   ]
  },
  {
   "cell_type": "code",
   "execution_count": 74,
   "metadata": {},
   "outputs": [
    {
     "data": {
      "image/png": "[encoded data removed]",
      "text/plain": [
       "<Figure size 1000x600 with 1 Axes>"
      ]
     },
     "metadata": {},
     "output_type": "display_data"
    }
   ],
   "source": [
    "import matplotlib.pyplot as plt\n",
    "\n",
    "# Extraire les données de perte (loss) et de validation (val_loss)\n",
    "loss = history.history['loss']\n",
    "val_loss = history.history['val_loss']\n",
    "\n",
    "# Tracer les courbes\n",
    "plt.figure(figsize=(10, 6))\n",
    "plt.plot(loss, label='Training Loss')\n",
    "plt.plot(val_loss, label='Validation Loss', linestyle='--')\n",
    "plt.xlabel('Epochs')\n",
    "plt.ylabel('Loss')\n",
    "plt.yscale('log')\n",
    "plt.title('Training and Validation Loss Over Epochs')\n",
    "plt.legend()\n",
    "plt.grid()\n",
    "plt.show()\n"
   ]
  },
  {
   "cell_type": "markdown",
   "metadata": {},
   "source": [
    "# Résultats"
   ]
  },
  {
   "cell_type": "markdown",
   "metadata": {},
   "source": [
    "### Model Performance Summary\n",
    "\n",
    "The results indicate limited performance across models for sequential data prediction. Below is a brief evaluation and improvement suggestions for each model:\n",
    "\n",
    "| Modèle                   | MSE      | R²       |\n",
    "|--------------------------|----------|----------|\n",
    "| Régression Linéaire (RL) | 0.4925   | -0.2534  |\n",
    "| Random Forest (RF)       | 0.4062   | -0.0376  |\n",
    "| LSTM                    | 0.6022   | -0.5383  |\n",
    "\n",
    "---\n",
    "\n",
    "#### **Linear Regression (LR)**\n",
    "- **Results**: MSE = 0.4925, R² = -0.2534.\n",
    "- **Analysis**: \n",
    "  - Linear regression struggles to capture complex or temporal dependencies in the data.\n",
    "  - A negative R² shows the model performs worse than predicting the mean.\n",
    "- **Challenges**: Inability to model nonlinear or sequential relationships.\n",
    "- **Improvements**: \n",
    "  - Apply nonlinear feature transformations.\n",
    "  - Introduce more relevant explanatory variables.\n",
    "\n",
    "---\n",
    "\n",
    "#### **Random Forest (RF)**\n",
    "- **Results**: MSE = 0.4062, R² = -0.0376\n",
    "- **Analysis**: \n",
    "  - RF slightly outperforms LR, but its near-zero R² indicates it poorly explains data variance.\n",
    "  - RF does not inherently handle sequential dependencies well.\n",
    "- **Challenges**: Limited ability to exploit temporal structures and sensitivity to hyperparameters.\n",
    "- **Improvements**: \n",
    "  - Tune hyperparameters (e.g., tree depth, number of estimators).\n",
    "  - Explore gradient boosting models (XGBoost, LightGBM).\n",
    "\n",
    "---\n",
    "\n",
    "#### **LSTM**\n",
    "- **Results**: MSE = 0.6022, R² = -0.5383\n",
    "- **Analysis**: \n",
    "  - Despite being designed for sequential data, the LSTM underperforms, likely due to insufficient data or suboptimal hyperparameters.\n",
    "  - Neural networks require larger datasets to generalize effectively.\n",
    "- **Challenges**: Risk of overfitting on small datasets, slow convergence with non-optimized settings.\n",
    "- **Improvements**: \n",
    "  - Expand dataset size or perform data augmentation.\n",
    "  - Optimize architecture (e.g., dropout, batch normalization, hyperparameter tuning).\n",
    "\n",
    "---\n",
    "\n",
    "### General Recommendations\n",
    "1. **Data Quality**: Improve data preprocessing and include more relevant features (rank of two teams).\n",
    "2. **Dataset Size**: Collect more data or augment existing data to enhance model performance.\n"
   ]
  },
  {
   "cell_type": "markdown",
   "metadata": {},
   "source": []
  }
 ],
 "metadata": {
  "kernelspec": {
   "display_name": ".venv",
   "language": "python",
   "name": "python3"
  },
  "language_info": {
   "codemirror_mode": {
    "name": "ipython",
    "version": 3
   },
   "file_extension": ".py",
   "mimetype": "text/x-python",
   "name": "python",
   "nbconvert_exporter": "python",
   "pygments_lexer": "ipython3",
   "version": "3.9.6"
  }
 },
 "nbformat": 4,
 "nbformat_minor": 2
}
